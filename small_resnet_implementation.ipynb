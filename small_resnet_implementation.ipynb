{
  "nbformat": 4,
  "nbformat_minor": 0,
  "metadata": {
    "colab": {
      "provenance": [],
      "authorship_tag": "ABX9TyOjHWIk253XQIKJ5UWilFP+",
      "include_colab_link": true
    },
    "kernelspec": {
      "name": "python3",
      "display_name": "Python 3"
    },
    "language_info": {
      "name": "python"
    },
    "widgets": {
      "application/vnd.jupyter.widget-state+json": {
        "8a8d3635bdef432db868156b8a8520e9": {
          "model_module": "@jupyter-widgets/controls",
          "model_name": "HBoxModel",
          "model_module_version": "1.5.0",
          "state": {
            "_dom_classes": [],
            "_model_module": "@jupyter-widgets/controls",
            "_model_module_version": "1.5.0",
            "_model_name": "HBoxModel",
            "_view_count": null,
            "_view_module": "@jupyter-widgets/controls",
            "_view_module_version": "1.5.0",
            "_view_name": "HBoxView",
            "box_style": "",
            "children": [
              "IPY_MODEL_c5258405b47c477887f33f71850944c5",
              "IPY_MODEL_ec5883f2ab964c00b22aa34695da5226",
              "IPY_MODEL_10ecc7ca59944330b9a4933532dd7655"
            ],
            "layout": "IPY_MODEL_f4143db5094d446ea889a28c5658b193"
          }
        },
        "c5258405b47c477887f33f71850944c5": {
          "model_module": "@jupyter-widgets/controls",
          "model_name": "HTMLModel",
          "model_module_version": "1.5.0",
          "state": {
            "_dom_classes": [],
            "_model_module": "@jupyter-widgets/controls",
            "_model_module_version": "1.5.0",
            "_model_name": "HTMLModel",
            "_view_count": null,
            "_view_module": "@jupyter-widgets/controls",
            "_view_module_version": "1.5.0",
            "_view_name": "HTMLView",
            "description": "",
            "description_tooltip": null,
            "layout": "IPY_MODEL_b43bd90f855b448e8eb20b64824a5404",
            "placeholder": "​",
            "style": "IPY_MODEL_5ef0d4bceedc45d09e9e01fd9143b097",
            "value": "100%"
          }
        },
        "ec5883f2ab964c00b22aa34695da5226": {
          "model_module": "@jupyter-widgets/controls",
          "model_name": "FloatProgressModel",
          "model_module_version": "1.5.0",
          "state": {
            "_dom_classes": [],
            "_model_module": "@jupyter-widgets/controls",
            "_model_module_version": "1.5.0",
            "_model_name": "FloatProgressModel",
            "_view_count": null,
            "_view_module": "@jupyter-widgets/controls",
            "_view_module_version": "1.5.0",
            "_view_name": "ProgressView",
            "bar_style": "success",
            "description": "",
            "description_tooltip": null,
            "layout": "IPY_MODEL_67ab0f2349a7461da948f0f7ef0cfcca",
            "max": 55,
            "min": 0,
            "orientation": "horizontal",
            "style": "IPY_MODEL_d52dc05ebd564f4b877a0143ee97d81f",
            "value": 55
          }
        },
        "10ecc7ca59944330b9a4933532dd7655": {
          "model_module": "@jupyter-widgets/controls",
          "model_name": "HTMLModel",
          "model_module_version": "1.5.0",
          "state": {
            "_dom_classes": [],
            "_model_module": "@jupyter-widgets/controls",
            "_model_module_version": "1.5.0",
            "_model_name": "HTMLModel",
            "_view_count": null,
            "_view_module": "@jupyter-widgets/controls",
            "_view_module_version": "1.5.0",
            "_view_name": "HTMLView",
            "description": "",
            "description_tooltip": null,
            "layout": "IPY_MODEL_a812242f77024b2489bebac7ac6295c8",
            "placeholder": "​",
            "style": "IPY_MODEL_1ed5ee8966b64751884a4bbb1d2a70d7",
            "value": " 55/55 [00:00&lt;00:00, 2378.85it/s]"
          }
        },
        "f4143db5094d446ea889a28c5658b193": {
          "model_module": "@jupyter-widgets/base",
          "model_name": "LayoutModel",
          "model_module_version": "1.2.0",
          "state": {
            "_model_module": "@jupyter-widgets/base",
            "_model_module_version": "1.2.0",
            "_model_name": "LayoutModel",
            "_view_count": null,
            "_view_module": "@jupyter-widgets/base",
            "_view_module_version": "1.2.0",
            "_view_name": "LayoutView",
            "align_content": null,
            "align_items": null,
            "align_self": null,
            "border": null,
            "bottom": null,
            "display": null,
            "flex": null,
            "flex_flow": null,
            "grid_area": null,
            "grid_auto_columns": null,
            "grid_auto_flow": null,
            "grid_auto_rows": null,
            "grid_column": null,
            "grid_gap": null,
            "grid_row": null,
            "grid_template_areas": null,
            "grid_template_columns": null,
            "grid_template_rows": null,
            "height": null,
            "justify_content": null,
            "justify_items": null,
            "left": null,
            "margin": null,
            "max_height": null,
            "max_width": null,
            "min_height": null,
            "min_width": null,
            "object_fit": null,
            "object_position": null,
            "order": null,
            "overflow": null,
            "overflow_x": null,
            "overflow_y": null,
            "padding": null,
            "right": null,
            "top": null,
            "visibility": null,
            "width": null
          }
        },
        "b43bd90f855b448e8eb20b64824a5404": {
          "model_module": "@jupyter-widgets/base",
          "model_name": "LayoutModel",
          "model_module_version": "1.2.0",
          "state": {
            "_model_module": "@jupyter-widgets/base",
            "_model_module_version": "1.2.0",
            "_model_name": "LayoutModel",
            "_view_count": null,
            "_view_module": "@jupyter-widgets/base",
            "_view_module_version": "1.2.0",
            "_view_name": "LayoutView",
            "align_content": null,
            "align_items": null,
            "align_self": null,
            "border": null,
            "bottom": null,
            "display": null,
            "flex": null,
            "flex_flow": null,
            "grid_area": null,
            "grid_auto_columns": null,
            "grid_auto_flow": null,
            "grid_auto_rows": null,
            "grid_column": null,
            "grid_gap": null,
            "grid_row": null,
            "grid_template_areas": null,
            "grid_template_columns": null,
            "grid_template_rows": null,
            "height": null,
            "justify_content": null,
            "justify_items": null,
            "left": null,
            "margin": null,
            "max_height": null,
            "max_width": null,
            "min_height": null,
            "min_width": null,
            "object_fit": null,
            "object_position": null,
            "order": null,
            "overflow": null,
            "overflow_x": null,
            "overflow_y": null,
            "padding": null,
            "right": null,
            "top": null,
            "visibility": null,
            "width": null
          }
        },
        "5ef0d4bceedc45d09e9e01fd9143b097": {
          "model_module": "@jupyter-widgets/controls",
          "model_name": "DescriptionStyleModel",
          "model_module_version": "1.5.0",
          "state": {
            "_model_module": "@jupyter-widgets/controls",
            "_model_module_version": "1.5.0",
            "_model_name": "DescriptionStyleModel",
            "_view_count": null,
            "_view_module": "@jupyter-widgets/base",
            "_view_module_version": "1.2.0",
            "_view_name": "StyleView",
            "description_width": ""
          }
        },
        "67ab0f2349a7461da948f0f7ef0cfcca": {
          "model_module": "@jupyter-widgets/base",
          "model_name": "LayoutModel",
          "model_module_version": "1.2.0",
          "state": {
            "_model_module": "@jupyter-widgets/base",
            "_model_module_version": "1.2.0",
            "_model_name": "LayoutModel",
            "_view_count": null,
            "_view_module": "@jupyter-widgets/base",
            "_view_module_version": "1.2.0",
            "_view_name": "LayoutView",
            "align_content": null,
            "align_items": null,
            "align_self": null,
            "border": null,
            "bottom": null,
            "display": null,
            "flex": null,
            "flex_flow": null,
            "grid_area": null,
            "grid_auto_columns": null,
            "grid_auto_flow": null,
            "grid_auto_rows": null,
            "grid_column": null,
            "grid_gap": null,
            "grid_row": null,
            "grid_template_areas": null,
            "grid_template_columns": null,
            "grid_template_rows": null,
            "height": null,
            "justify_content": null,
            "justify_items": null,
            "left": null,
            "margin": null,
            "max_height": null,
            "max_width": null,
            "min_height": null,
            "min_width": null,
            "object_fit": null,
            "object_position": null,
            "order": null,
            "overflow": null,
            "overflow_x": null,
            "overflow_y": null,
            "padding": null,
            "right": null,
            "top": null,
            "visibility": null,
            "width": null
          }
        },
        "d52dc05ebd564f4b877a0143ee97d81f": {
          "model_module": "@jupyter-widgets/controls",
          "model_name": "ProgressStyleModel",
          "model_module_version": "1.5.0",
          "state": {
            "_model_module": "@jupyter-widgets/controls",
            "_model_module_version": "1.5.0",
            "_model_name": "ProgressStyleModel",
            "_view_count": null,
            "_view_module": "@jupyter-widgets/base",
            "_view_module_version": "1.2.0",
            "_view_name": "StyleView",
            "bar_color": null,
            "description_width": ""
          }
        },
        "a812242f77024b2489bebac7ac6295c8": {
          "model_module": "@jupyter-widgets/base",
          "model_name": "LayoutModel",
          "model_module_version": "1.2.0",
          "state": {
            "_model_module": "@jupyter-widgets/base",
            "_model_module_version": "1.2.0",
            "_model_name": "LayoutModel",
            "_view_count": null,
            "_view_module": "@jupyter-widgets/base",
            "_view_module_version": "1.2.0",
            "_view_name": "LayoutView",
            "align_content": null,
            "align_items": null,
            "align_self": null,
            "border": null,
            "bottom": null,
            "display": null,
            "flex": null,
            "flex_flow": null,
            "grid_area": null,
            "grid_auto_columns": null,
            "grid_auto_flow": null,
            "grid_auto_rows": null,
            "grid_column": null,
            "grid_gap": null,
            "grid_row": null,
            "grid_template_areas": null,
            "grid_template_columns": null,
            "grid_template_rows": null,
            "height": null,
            "justify_content": null,
            "justify_items": null,
            "left": null,
            "margin": null,
            "max_height": null,
            "max_width": null,
            "min_height": null,
            "min_width": null,
            "object_fit": null,
            "object_position": null,
            "order": null,
            "overflow": null,
            "overflow_x": null,
            "overflow_y": null,
            "padding": null,
            "right": null,
            "top": null,
            "visibility": null,
            "width": null
          }
        },
        "1ed5ee8966b64751884a4bbb1d2a70d7": {
          "model_module": "@jupyter-widgets/controls",
          "model_name": "DescriptionStyleModel",
          "model_module_version": "1.5.0",
          "state": {
            "_model_module": "@jupyter-widgets/controls",
            "_model_module_version": "1.5.0",
            "_model_name": "DescriptionStyleModel",
            "_view_count": null,
            "_view_module": "@jupyter-widgets/base",
            "_view_module_version": "1.2.0",
            "_view_name": "StyleView",
            "description_width": ""
          }
        },
        "e660ce7935254dd489476834b52ef09a": {
          "model_module": "@jupyter-widgets/controls",
          "model_name": "HBoxModel",
          "model_module_version": "1.5.0",
          "state": {
            "_dom_classes": [],
            "_model_module": "@jupyter-widgets/controls",
            "_model_module_version": "1.5.0",
            "_model_name": "HBoxModel",
            "_view_count": null,
            "_view_module": "@jupyter-widgets/controls",
            "_view_module_version": "1.5.0",
            "_view_name": "HBoxView",
            "box_style": "",
            "children": [
              "IPY_MODEL_602b389fda5e4e10bee86c022a693ac5",
              "IPY_MODEL_b893897c70484786ad80822e3d784f6a",
              "IPY_MODEL_31840e99b3294832b020c44bb17a3bd2"
            ],
            "layout": "IPY_MODEL_97ee501c828e4e36bf1923c425ace2f9"
          }
        },
        "602b389fda5e4e10bee86c022a693ac5": {
          "model_module": "@jupyter-widgets/controls",
          "model_name": "HTMLModel",
          "model_module_version": "1.5.0",
          "state": {
            "_dom_classes": [],
            "_model_module": "@jupyter-widgets/controls",
            "_model_module_version": "1.5.0",
            "_model_name": "HTMLModel",
            "_view_count": null,
            "_view_module": "@jupyter-widgets/controls",
            "_view_module_version": "1.5.0",
            "_view_name": "HTMLView",
            "description": "",
            "description_tooltip": null,
            "layout": "IPY_MODEL_75557cb2dd1943509ed5485f8c8abccc",
            "placeholder": "​",
            "style": "IPY_MODEL_a7447c3f92c84934b4841ff4676cb787",
            "value": "100%"
          }
        },
        "b893897c70484786ad80822e3d784f6a": {
          "model_module": "@jupyter-widgets/controls",
          "model_name": "FloatProgressModel",
          "model_module_version": "1.5.0",
          "state": {
            "_dom_classes": [],
            "_model_module": "@jupyter-widgets/controls",
            "_model_module_version": "1.5.0",
            "_model_name": "FloatProgressModel",
            "_view_count": null,
            "_view_module": "@jupyter-widgets/controls",
            "_view_module_version": "1.5.0",
            "_view_name": "ProgressView",
            "bar_style": "success",
            "description": "",
            "description_tooltip": null,
            "layout": "IPY_MODEL_23f4a6ef90194b499c9efd76cdb5accf",
            "max": 55,
            "min": 0,
            "orientation": "horizontal",
            "style": "IPY_MODEL_e8e0ccf15ce84ea5b56702b5d21af94a",
            "value": 55
          }
        },
        "31840e99b3294832b020c44bb17a3bd2": {
          "model_module": "@jupyter-widgets/controls",
          "model_name": "HTMLModel",
          "model_module_version": "1.5.0",
          "state": {
            "_dom_classes": [],
            "_model_module": "@jupyter-widgets/controls",
            "_model_module_version": "1.5.0",
            "_model_name": "HTMLModel",
            "_view_count": null,
            "_view_module": "@jupyter-widgets/controls",
            "_view_module_version": "1.5.0",
            "_view_name": "HTMLView",
            "description": "",
            "description_tooltip": null,
            "layout": "IPY_MODEL_d75950a628a84205ad37a550ed1ee7c8",
            "placeholder": "​",
            "style": "IPY_MODEL_d59b268f2f694d2e8efc5fe14eba3cfd",
            "value": " 55/55 [00:00&lt;00:00, 2498.26it/s]"
          }
        },
        "97ee501c828e4e36bf1923c425ace2f9": {
          "model_module": "@jupyter-widgets/base",
          "model_name": "LayoutModel",
          "model_module_version": "1.2.0",
          "state": {
            "_model_module": "@jupyter-widgets/base",
            "_model_module_version": "1.2.0",
            "_model_name": "LayoutModel",
            "_view_count": null,
            "_view_module": "@jupyter-widgets/base",
            "_view_module_version": "1.2.0",
            "_view_name": "LayoutView",
            "align_content": null,
            "align_items": null,
            "align_self": null,
            "border": null,
            "bottom": null,
            "display": null,
            "flex": null,
            "flex_flow": null,
            "grid_area": null,
            "grid_auto_columns": null,
            "grid_auto_flow": null,
            "grid_auto_rows": null,
            "grid_column": null,
            "grid_gap": null,
            "grid_row": null,
            "grid_template_areas": null,
            "grid_template_columns": null,
            "grid_template_rows": null,
            "height": null,
            "justify_content": null,
            "justify_items": null,
            "left": null,
            "margin": null,
            "max_height": null,
            "max_width": null,
            "min_height": null,
            "min_width": null,
            "object_fit": null,
            "object_position": null,
            "order": null,
            "overflow": null,
            "overflow_x": null,
            "overflow_y": null,
            "padding": null,
            "right": null,
            "top": null,
            "visibility": null,
            "width": null
          }
        },
        "75557cb2dd1943509ed5485f8c8abccc": {
          "model_module": "@jupyter-widgets/base",
          "model_name": "LayoutModel",
          "model_module_version": "1.2.0",
          "state": {
            "_model_module": "@jupyter-widgets/base",
            "_model_module_version": "1.2.0",
            "_model_name": "LayoutModel",
            "_view_count": null,
            "_view_module": "@jupyter-widgets/base",
            "_view_module_version": "1.2.0",
            "_view_name": "LayoutView",
            "align_content": null,
            "align_items": null,
            "align_self": null,
            "border": null,
            "bottom": null,
            "display": null,
            "flex": null,
            "flex_flow": null,
            "grid_area": null,
            "grid_auto_columns": null,
            "grid_auto_flow": null,
            "grid_auto_rows": null,
            "grid_column": null,
            "grid_gap": null,
            "grid_row": null,
            "grid_template_areas": null,
            "grid_template_columns": null,
            "grid_template_rows": null,
            "height": null,
            "justify_content": null,
            "justify_items": null,
            "left": null,
            "margin": null,
            "max_height": null,
            "max_width": null,
            "min_height": null,
            "min_width": null,
            "object_fit": null,
            "object_position": null,
            "order": null,
            "overflow": null,
            "overflow_x": null,
            "overflow_y": null,
            "padding": null,
            "right": null,
            "top": null,
            "visibility": null,
            "width": null
          }
        },
        "a7447c3f92c84934b4841ff4676cb787": {
          "model_module": "@jupyter-widgets/controls",
          "model_name": "DescriptionStyleModel",
          "model_module_version": "1.5.0",
          "state": {
            "_model_module": "@jupyter-widgets/controls",
            "_model_module_version": "1.5.0",
            "_model_name": "DescriptionStyleModel",
            "_view_count": null,
            "_view_module": "@jupyter-widgets/base",
            "_view_module_version": "1.2.0",
            "_view_name": "StyleView",
            "description_width": ""
          }
        },
        "23f4a6ef90194b499c9efd76cdb5accf": {
          "model_module": "@jupyter-widgets/base",
          "model_name": "LayoutModel",
          "model_module_version": "1.2.0",
          "state": {
            "_model_module": "@jupyter-widgets/base",
            "_model_module_version": "1.2.0",
            "_model_name": "LayoutModel",
            "_view_count": null,
            "_view_module": "@jupyter-widgets/base",
            "_view_module_version": "1.2.0",
            "_view_name": "LayoutView",
            "align_content": null,
            "align_items": null,
            "align_self": null,
            "border": null,
            "bottom": null,
            "display": null,
            "flex": null,
            "flex_flow": null,
            "grid_area": null,
            "grid_auto_columns": null,
            "grid_auto_flow": null,
            "grid_auto_rows": null,
            "grid_column": null,
            "grid_gap": null,
            "grid_row": null,
            "grid_template_areas": null,
            "grid_template_columns": null,
            "grid_template_rows": null,
            "height": null,
            "justify_content": null,
            "justify_items": null,
            "left": null,
            "margin": null,
            "max_height": null,
            "max_width": null,
            "min_height": null,
            "min_width": null,
            "object_fit": null,
            "object_position": null,
            "order": null,
            "overflow": null,
            "overflow_x": null,
            "overflow_y": null,
            "padding": null,
            "right": null,
            "top": null,
            "visibility": null,
            "width": null
          }
        },
        "e8e0ccf15ce84ea5b56702b5d21af94a": {
          "model_module": "@jupyter-widgets/controls",
          "model_name": "ProgressStyleModel",
          "model_module_version": "1.5.0",
          "state": {
            "_model_module": "@jupyter-widgets/controls",
            "_model_module_version": "1.5.0",
            "_model_name": "ProgressStyleModel",
            "_view_count": null,
            "_view_module": "@jupyter-widgets/base",
            "_view_module_version": "1.2.0",
            "_view_name": "StyleView",
            "bar_color": null,
            "description_width": ""
          }
        },
        "d75950a628a84205ad37a550ed1ee7c8": {
          "model_module": "@jupyter-widgets/base",
          "model_name": "LayoutModel",
          "model_module_version": "1.2.0",
          "state": {
            "_model_module": "@jupyter-widgets/base",
            "_model_module_version": "1.2.0",
            "_model_name": "LayoutModel",
            "_view_count": null,
            "_view_module": "@jupyter-widgets/base",
            "_view_module_version": "1.2.0",
            "_view_name": "LayoutView",
            "align_content": null,
            "align_items": null,
            "align_self": null,
            "border": null,
            "bottom": null,
            "display": null,
            "flex": null,
            "flex_flow": null,
            "grid_area": null,
            "grid_auto_columns": null,
            "grid_auto_flow": null,
            "grid_auto_rows": null,
            "grid_column": null,
            "grid_gap": null,
            "grid_row": null,
            "grid_template_areas": null,
            "grid_template_columns": null,
            "grid_template_rows": null,
            "height": null,
            "justify_content": null,
            "justify_items": null,
            "left": null,
            "margin": null,
            "max_height": null,
            "max_width": null,
            "min_height": null,
            "min_width": null,
            "object_fit": null,
            "object_position": null,
            "order": null,
            "overflow": null,
            "overflow_x": null,
            "overflow_y": null,
            "padding": null,
            "right": null,
            "top": null,
            "visibility": null,
            "width": null
          }
        },
        "d59b268f2f694d2e8efc5fe14eba3cfd": {
          "model_module": "@jupyter-widgets/controls",
          "model_name": "DescriptionStyleModel",
          "model_module_version": "1.5.0",
          "state": {
            "_model_module": "@jupyter-widgets/controls",
            "_model_module_version": "1.5.0",
            "_model_name": "DescriptionStyleModel",
            "_view_count": null,
            "_view_module": "@jupyter-widgets/base",
            "_view_module_version": "1.2.0",
            "_view_name": "StyleView",
            "description_width": ""
          }
        }
      }
    },
    "accelerator": "GPU",
    "gpuClass": "standard"
  },
  "cells": [
    {
      "cell_type": "markdown",
      "metadata": {
        "id": "view-in-github",
        "colab_type": "text"
      },
      "source": [
        "<a href=\"https://colab.research.google.com/github/Utkarsh31-cell/Signature_verification_triplet_loss_project/blob/main/small_resnet_implementation.ipynb\" target=\"_parent\"><img src=\"https://colab.research.google.com/assets/colab-badge.svg\" alt=\"Open In Colab\"/></a>"
      ]
    },
    {
      "cell_type": "code",
      "execution_count": 28,
      "metadata": {
        "colab": {
          "base_uri": "https://localhost:8080/"
        },
        "id": "nojYABJckx56",
        "outputId": "4bda0c1c-052a-4d89-ebfb-ef6f0632dddf"
      },
      "outputs": [
        {
          "output_type": "stream",
          "name": "stdout",
          "text": [
            "[2, 7, 8, 9, 15, 16, 18, 35, 41, 44, 48, 57, 62, 63, 64, 70, 71, 73, 90, 96, 99, 103]\n",
            "['s0', 's1', 's2', 's3', 's4', 's5', 's6', 's7', 's8', 's9', 's10', 's11', 's12', 's13', 's14', 's15', 's16', 's17', 's18', 's19', 's20', 's21', 's22', 's23', 's24', 's25', 's26', 's27', 's28', 's29', 's30', 's31', 's32', 's33', 's34', 's35', 's36', 's37', 's38', 's39', 's40', 's41', 's42', 's43', 's44', 's45', 's46', 's47', 's48', 's49', 's50', 's51', 's52', 's53', 's54', 'frg0', 'frg1', 'frg2', 'frg3', 'frg4', 'frg5', 'frg6', 'frg7', 'frg8', 'frg9', 'frg10', 'frg11', 'frg12', 'frg13', 'frg14', 'frg15', 'frg16', 'frg17', 'frg18', 'frg19', 'frg20', 'frg21', 'frg22', 'frg23', 'frg24', 'frg25', 'frg26', 'frg27', 'frg28', 'frg29', 'frg30', 'frg31', 'frg32', 'frg33', 'frg34', 'frg35', 'frg36', 'frg37', 'frg38', 'frg39', 'frg40', 'frg41', 'frg42', 'frg43', 'frg44', 'frg45', 'frg46', 'frg47', 'frg48', 'frg49', 'frg50', 'frg51', 'frg52', 'frg53', 'frg54']\n"
          ]
        }
      ],
      "source": [
        "## images in CEDAR are prefixed by the number/index of the signer, and if forgery or genuine. \n",
        "## we will assign class names genuince and forgeries for each signature\n",
        "signer_range = range(0,55)\n",
        "cn1 = [ \"s\" +str(x) for x in signer_range] # class names for genuine signatures s1 - s55\n",
        "cn2 = [ \"frg\" +str(x) for x in signer_range] # classnames  for forgeries frg1 -frg55\n",
        "class_names = cn1 + cn2\n",
        "\n",
        "# We will assign 11 signatures manually to a hold out test set\n",
        "hold_out_1 = [ 2,  7,  8,  9, 15, 16, 18, 35, 41, 44, 48] ## prefix sor held out genuine signatures\n",
        "hold_out_2 = [x+55 for x in hold_out_1] ## prefix for held out forged signatures\n",
        "hold_out = hold_out_1 + hold_out_2 \n",
        "print(hold_out)\n",
        "print(class_names)"
      ]
    },
    {
      "cell_type": "code",
      "source": [
        "from google.colab import drive\n",
        "drive.mount('/content/drive', force_remount=True)"
      ],
      "metadata": {
        "id": "Lwy3-pYul2Lz",
        "outputId": "c3db613a-7db5-4404-d3e2-30df94db31e4",
        "colab": {
          "base_uri": "https://localhost:8080/"
        }
      },
      "execution_count": 31,
      "outputs": [
        {
          "output_type": "stream",
          "name": "stdout",
          "text": [
            "Mounted at /content/drive\n"
          ]
        }
      ]
    },
    {
      "cell_type": "code",
      "source": [
        "!pip install -q -U tensorflow-addons umap-learn\n",
        "!pip install tensorflow_datasets"
      ],
      "metadata": {
        "colab": {
          "base_uri": "https://localhost:8080/"
        },
        "id": "v_x9FAnQAnue",
        "outputId": "cdbc184c-6551-4b3b-a1d1-8b94e5145fc6"
      },
      "execution_count": 30,
      "outputs": [
        {
          "output_type": "stream",
          "name": "stdout",
          "text": [
            "Looking in indexes: https://pypi.org/simple, https://us-python.pkg.dev/colab-wheels/public/simple/\n",
            "Requirement already satisfied: tensorflow_datasets in /usr/local/lib/python3.9/dist-packages (4.8.3)\n",
            "Requirement already satisfied: toml in /usr/local/lib/python3.9/dist-packages (from tensorflow_datasets) (0.10.2)\n",
            "Requirement already satisfied: wrapt in /usr/local/lib/python3.9/dist-packages (from tensorflow_datasets) (1.15.0)\n",
            "Requirement already satisfied: click in /usr/local/lib/python3.9/dist-packages (from tensorflow_datasets) (8.1.3)\n",
            "Requirement already satisfied: tqdm in /usr/local/lib/python3.9/dist-packages (from tensorflow_datasets) (4.65.0)\n",
            "Requirement already satisfied: numpy in /usr/local/lib/python3.9/dist-packages (from tensorflow_datasets) (1.22.4)\n",
            "Requirement already satisfied: dm-tree in /usr/local/lib/python3.9/dist-packages (from tensorflow_datasets) (0.1.8)\n",
            "Requirement already satisfied: psutil in /usr/local/lib/python3.9/dist-packages (from tensorflow_datasets) (5.4.8)\n",
            "Requirement already satisfied: tensorflow-metadata in /usr/local/lib/python3.9/dist-packages (from tensorflow_datasets) (1.12.0)\n",
            "Requirement already satisfied: protobuf>=3.12.2 in /usr/local/lib/python3.9/dist-packages (from tensorflow_datasets) (3.19.6)\n",
            "Requirement already satisfied: requests>=2.19.0 in /usr/local/lib/python3.9/dist-packages (from tensorflow_datasets) (2.25.1)\n",
            "Requirement already satisfied: promise in /usr/local/lib/python3.9/dist-packages (from tensorflow_datasets) (2.3)\n",
            "Requirement already satisfied: termcolor in /usr/local/lib/python3.9/dist-packages (from tensorflow_datasets) (2.2.0)\n",
            "Requirement already satisfied: etils[enp,epath]>=0.9.0 in /usr/local/lib/python3.9/dist-packages (from tensorflow_datasets) (1.0.0)\n",
            "Requirement already satisfied: absl-py in /usr/local/lib/python3.9/dist-packages (from tensorflow_datasets) (1.4.0)\n",
            "Requirement already satisfied: typing_extensions in /usr/local/lib/python3.9/dist-packages (from etils[enp,epath]>=0.9.0->tensorflow_datasets) (4.5.0)\n",
            "Requirement already satisfied: importlib_resources in /usr/local/lib/python3.9/dist-packages (from etils[enp,epath]>=0.9.0->tensorflow_datasets) (5.12.0)\n",
            "Requirement already satisfied: zipp in /usr/local/lib/python3.9/dist-packages (from etils[enp,epath]>=0.9.0->tensorflow_datasets) (3.15.0)\n",
            "Requirement already satisfied: idna<3,>=2.5 in /usr/local/lib/python3.9/dist-packages (from requests>=2.19.0->tensorflow_datasets) (2.10)\n",
            "Requirement already satisfied: certifi>=2017.4.17 in /usr/local/lib/python3.9/dist-packages (from requests>=2.19.0->tensorflow_datasets) (2022.12.7)\n",
            "Requirement already satisfied: urllib3<1.27,>=1.21.1 in /usr/local/lib/python3.9/dist-packages (from requests>=2.19.0->tensorflow_datasets) (1.26.14)\n",
            "Requirement already satisfied: chardet<5,>=3.0.2 in /usr/local/lib/python3.9/dist-packages (from requests>=2.19.0->tensorflow_datasets) (4.0.0)\n",
            "Requirement already satisfied: six in /usr/local/lib/python3.9/dist-packages (from promise->tensorflow_datasets) (1.15.0)\n",
            "Requirement already satisfied: googleapis-common-protos<2,>=1.52.0 in /usr/local/lib/python3.9/dist-packages (from tensorflow-metadata->tensorflow_datasets) (1.58.0)\n"
          ]
        }
      ]
    },
    {
      "cell_type": "code",
      "source": [
        "from tqdm.notebook import tqdm \n",
        "import numpy as np\n",
        "import tensorflow as tf\n",
        "import tensorflow_addons as tfa\n",
        "import tensorflow_datasets as tfds\n",
        "import umap \n",
        "from skimage.filters import  threshold_otsu\n",
        "from tensorflow.keras.preprocessing.image import load_img, img_to_array\n",
        "import matplotlib.pyplot as plt"
      ],
      "metadata": {
        "id": "uO-Lfk56BSa4"
      },
      "execution_count": 32,
      "outputs": []
    },
    {
      "cell_type": "code",
      "source": [
        "img_target_size = (224, 224)\n",
        "#img_target_size = (125, 125)\n",
        "data_base_path = \"/content/drive/My Drive/signatures\" \n",
        "def generate_dataset(): \n",
        "  x_train, y_train = [], []  \n",
        "  x_test, y_test = [], [] \n",
        "  for i in tqdm(range(1,56)): \n",
        "    for j in range(1,25): \n",
        "      orig_img_path =  \"/full_org/original_\" + str(i) + \"_\" + str(j) + \".png\"   \n",
        "      if (i not in hold_out):\n",
        "        x_train.append(orig_img_path)\n",
        "        y_train.append(i)\n",
        "      else:\n",
        "        x_test.append(orig_img_path )\n",
        "        y_test.append(i)\n",
        "\n",
        "  for i in tqdm(range(1,56)): \n",
        "    for j in range(1,25):\n",
        "      forg_img_path =  \"/full_forg/forgeries_\" + str(i) + \"_\" + str(j) + \".png\"  \n",
        "      if ((i+55) not in hold_out):\n",
        "        x_train.append(forg_img_path)\n",
        "        y_train.append(i+55)\n",
        "      else:\n",
        "        x_test.append(forg_img_path)\n",
        "        y_test.append(i+55)\n",
        "  return (x_train), (y_train), (x_test), (y_test)"
      ],
      "metadata": {
        "id": "co8QXOQPBZpt"
      },
      "execution_count": 86,
      "outputs": []
    },
    {
      "cell_type": "code",
      "source": [
        "x_train, y_train, x_test, y_test = generate_dataset()"
      ],
      "metadata": {
        "colab": {
          "base_uri": "https://localhost:8080/",
          "height": 81,
          "referenced_widgets": [
            "8a8d3635bdef432db868156b8a8520e9",
            "c5258405b47c477887f33f71850944c5",
            "ec5883f2ab964c00b22aa34695da5226",
            "10ecc7ca59944330b9a4933532dd7655",
            "f4143db5094d446ea889a28c5658b193",
            "b43bd90f855b448e8eb20b64824a5404",
            "5ef0d4bceedc45d09e9e01fd9143b097",
            "67ab0f2349a7461da948f0f7ef0cfcca",
            "d52dc05ebd564f4b877a0143ee97d81f",
            "a812242f77024b2489bebac7ac6295c8",
            "1ed5ee8966b64751884a4bbb1d2a70d7",
            "e660ce7935254dd489476834b52ef09a",
            "602b389fda5e4e10bee86c022a693ac5",
            "b893897c70484786ad80822e3d784f6a",
            "31840e99b3294832b020c44bb17a3bd2",
            "97ee501c828e4e36bf1923c425ace2f9",
            "75557cb2dd1943509ed5485f8c8abccc",
            "a7447c3f92c84934b4841ff4676cb787",
            "23f4a6ef90194b499c9efd76cdb5accf",
            "e8e0ccf15ce84ea5b56702b5d21af94a",
            "d75950a628a84205ad37a550ed1ee7c8",
            "d59b268f2f694d2e8efc5fe14eba3cfd"
          ]
        },
        "id": "V92QIPYWBo2n",
        "outputId": "578d4d08-6d0e-4596-db9c-1aa6a4e0c9b2"
      },
      "execution_count": 87,
      "outputs": [
        {
          "output_type": "display_data",
          "data": {
            "text/plain": [
              "  0%|          | 0/55 [00:00<?, ?it/s]"
            ],
            "application/vnd.jupyter.widget-view+json": {
              "version_major": 2,
              "version_minor": 0,
              "model_id": "8a8d3635bdef432db868156b8a8520e9"
            }
          },
          "metadata": {}
        },
        {
          "output_type": "display_data",
          "data": {
            "text/plain": [
              "  0%|          | 0/55 [00:00<?, ?it/s]"
            ],
            "application/vnd.jupyter.widget-view+json": {
              "version_major": 2,
              "version_minor": 0,
              "model_id": "e660ce7935254dd489476834b52ef09a"
            }
          },
          "metadata": {}
        }
      ]
    },
    {
      "cell_type": "code",
      "source": [
        "import pandas as pd\n",
        "pd.DataFrame(zip(x_train, y_train))\n",
        "pd.DataFrame(zip(x_test, y_test))"
      ],
      "metadata": {
        "colab": {
          "base_uri": "https://localhost:8080/",
          "height": 423
        },
        "id": "5Wt3FXseBsVO",
        "outputId": "22e5c0b0-7b3f-4a48-ad18-5751a9b37466"
      },
      "execution_count": 88,
      "outputs": [
        {
          "output_type": "execute_result",
          "data": {
            "text/plain": [
              "                                  0    1\n",
              "0        /full_org/original_2_1.png    2\n",
              "1        /full_org/original_2_2.png    2\n",
              "2        /full_org/original_2_3.png    2\n",
              "3        /full_org/original_2_4.png    2\n",
              "4        /full_org/original_2_5.png    2\n",
              "..                              ...  ...\n",
              "523  /full_forg/forgeries_48_20.png  103\n",
              "524  /full_forg/forgeries_48_21.png  103\n",
              "525  /full_forg/forgeries_48_22.png  103\n",
              "526  /full_forg/forgeries_48_23.png  103\n",
              "527  /full_forg/forgeries_48_24.png  103\n",
              "\n",
              "[528 rows x 2 columns]"
            ],
            "text/html": [
              "\n",
              "  <div id=\"df-4a6d7ab2-b058-478b-93dd-a4caea0a184f\">\n",
              "    <div class=\"colab-df-container\">\n",
              "      <div>\n",
              "<style scoped>\n",
              "    .dataframe tbody tr th:only-of-type {\n",
              "        vertical-align: middle;\n",
              "    }\n",
              "\n",
              "    .dataframe tbody tr th {\n",
              "        vertical-align: top;\n",
              "    }\n",
              "\n",
              "    .dataframe thead th {\n",
              "        text-align: right;\n",
              "    }\n",
              "</style>\n",
              "<table border=\"1\" class=\"dataframe\">\n",
              "  <thead>\n",
              "    <tr style=\"text-align: right;\">\n",
              "      <th></th>\n",
              "      <th>0</th>\n",
              "      <th>1</th>\n",
              "    </tr>\n",
              "  </thead>\n",
              "  <tbody>\n",
              "    <tr>\n",
              "      <th>0</th>\n",
              "      <td>/full_org/original_2_1.png</td>\n",
              "      <td>2</td>\n",
              "    </tr>\n",
              "    <tr>\n",
              "      <th>1</th>\n",
              "      <td>/full_org/original_2_2.png</td>\n",
              "      <td>2</td>\n",
              "    </tr>\n",
              "    <tr>\n",
              "      <th>2</th>\n",
              "      <td>/full_org/original_2_3.png</td>\n",
              "      <td>2</td>\n",
              "    </tr>\n",
              "    <tr>\n",
              "      <th>3</th>\n",
              "      <td>/full_org/original_2_4.png</td>\n",
              "      <td>2</td>\n",
              "    </tr>\n",
              "    <tr>\n",
              "      <th>4</th>\n",
              "      <td>/full_org/original_2_5.png</td>\n",
              "      <td>2</td>\n",
              "    </tr>\n",
              "    <tr>\n",
              "      <th>...</th>\n",
              "      <td>...</td>\n",
              "      <td>...</td>\n",
              "    </tr>\n",
              "    <tr>\n",
              "      <th>523</th>\n",
              "      <td>/full_forg/forgeries_48_20.png</td>\n",
              "      <td>103</td>\n",
              "    </tr>\n",
              "    <tr>\n",
              "      <th>524</th>\n",
              "      <td>/full_forg/forgeries_48_21.png</td>\n",
              "      <td>103</td>\n",
              "    </tr>\n",
              "    <tr>\n",
              "      <th>525</th>\n",
              "      <td>/full_forg/forgeries_48_22.png</td>\n",
              "      <td>103</td>\n",
              "    </tr>\n",
              "    <tr>\n",
              "      <th>526</th>\n",
              "      <td>/full_forg/forgeries_48_23.png</td>\n",
              "      <td>103</td>\n",
              "    </tr>\n",
              "    <tr>\n",
              "      <th>527</th>\n",
              "      <td>/full_forg/forgeries_48_24.png</td>\n",
              "      <td>103</td>\n",
              "    </tr>\n",
              "  </tbody>\n",
              "</table>\n",
              "<p>528 rows × 2 columns</p>\n",
              "</div>\n",
              "      <button class=\"colab-df-convert\" onclick=\"convertToInteractive('df-4a6d7ab2-b058-478b-93dd-a4caea0a184f')\"\n",
              "              title=\"Convert this dataframe to an interactive table.\"\n",
              "              style=\"display:none;\">\n",
              "        \n",
              "  <svg xmlns=\"http://www.w3.org/2000/svg\" height=\"24px\"viewBox=\"0 0 24 24\"\n",
              "       width=\"24px\">\n",
              "    <path d=\"M0 0h24v24H0V0z\" fill=\"none\"/>\n",
              "    <path d=\"M18.56 5.44l.94 2.06.94-2.06 2.06-.94-2.06-.94-.94-2.06-.94 2.06-2.06.94zm-11 1L8.5 8.5l.94-2.06 2.06-.94-2.06-.94L8.5 2.5l-.94 2.06-2.06.94zm10 10l.94 2.06.94-2.06 2.06-.94-2.06-.94-.94-2.06-.94 2.06-2.06.94z\"/><path d=\"M17.41 7.96l-1.37-1.37c-.4-.4-.92-.59-1.43-.59-.52 0-1.04.2-1.43.59L10.3 9.45l-7.72 7.72c-.78.78-.78 2.05 0 2.83L4 21.41c.39.39.9.59 1.41.59.51 0 1.02-.2 1.41-.59l7.78-7.78 2.81-2.81c.8-.78.8-2.07 0-2.86zM5.41 20L4 18.59l7.72-7.72 1.47 1.35L5.41 20z\"/>\n",
              "  </svg>\n",
              "      </button>\n",
              "      \n",
              "  <style>\n",
              "    .colab-df-container {\n",
              "      display:flex;\n",
              "      flex-wrap:wrap;\n",
              "      gap: 12px;\n",
              "    }\n",
              "\n",
              "    .colab-df-convert {\n",
              "      background-color: #E8F0FE;\n",
              "      border: none;\n",
              "      border-radius: 50%;\n",
              "      cursor: pointer;\n",
              "      display: none;\n",
              "      fill: #1967D2;\n",
              "      height: 32px;\n",
              "      padding: 0 0 0 0;\n",
              "      width: 32px;\n",
              "    }\n",
              "\n",
              "    .colab-df-convert:hover {\n",
              "      background-color: #E2EBFA;\n",
              "      box-shadow: 0px 1px 2px rgba(60, 64, 67, 0.3), 0px 1px 3px 1px rgba(60, 64, 67, 0.15);\n",
              "      fill: #174EA6;\n",
              "    }\n",
              "\n",
              "    [theme=dark] .colab-df-convert {\n",
              "      background-color: #3B4455;\n",
              "      fill: #D2E3FC;\n",
              "    }\n",
              "\n",
              "    [theme=dark] .colab-df-convert:hover {\n",
              "      background-color: #434B5C;\n",
              "      box-shadow: 0px 1px 3px 1px rgba(0, 0, 0, 0.15);\n",
              "      filter: drop-shadow(0px 1px 2px rgba(0, 0, 0, 0.3));\n",
              "      fill: #FFFFFF;\n",
              "    }\n",
              "  </style>\n",
              "\n",
              "      <script>\n",
              "        const buttonEl =\n",
              "          document.querySelector('#df-4a6d7ab2-b058-478b-93dd-a4caea0a184f button.colab-df-convert');\n",
              "        buttonEl.style.display =\n",
              "          google.colab.kernel.accessAllowed ? 'block' : 'none';\n",
              "\n",
              "        async function convertToInteractive(key) {\n",
              "          const element = document.querySelector('#df-4a6d7ab2-b058-478b-93dd-a4caea0a184f');\n",
              "          const dataTable =\n",
              "            await google.colab.kernel.invokeFunction('convertToInteractive',\n",
              "                                                     [key], {});\n",
              "          if (!dataTable) return;\n",
              "\n",
              "          const docLinkHtml = 'Like what you see? Visit the ' +\n",
              "            '<a target=\"_blank\" href=https://colab.research.google.com/notebooks/data_table.ipynb>data table notebook</a>'\n",
              "            + ' to learn more about interactive tables.';\n",
              "          element.innerHTML = '';\n",
              "          dataTable['output_type'] = 'display_data';\n",
              "          await google.colab.output.renderOutput(dataTable, element);\n",
              "          const docLink = document.createElement('div');\n",
              "          docLink.innerHTML = docLinkHtml;\n",
              "          element.appendChild(docLink);\n",
              "        }\n",
              "      </script>\n",
              "    </div>\n",
              "  </div>\n",
              "  "
            ]
          },
          "metadata": {},
          "execution_count": 88
        }
      ]
    },
    {
      "cell_type": "code",
      "source": [
        "def threshold_image(img_arr):\n",
        "  thresh = threshold_otsu(img_arr)\n",
        "  return np.where(img_arr > thresh, 255, 0) \n",
        "\n",
        "def load_data(img_paths):\n",
        "  results = []\n",
        "  for img_path in img_paths:\n",
        "    img_np = load_img(data_base_path + str(img_path ), target_size=img_target_size )\n",
        "    img_np = np.squeeze(img_to_array(img_np))  \n",
        "    img_np = threshold_image(img_np) \n",
        "    img_np = img_np * (1./255) \n",
        "    results.append(img_np) \n",
        "  return np.array(results)"
      ],
      "metadata": {
        "id": "gqFiBwqABxVu"
      },
      "execution_count": 89,
      "outputs": []
    },
    {
      "cell_type": "code",
      "source": [
        "batch_size = 128\n",
        "train_ds = tf.data.Dataset.from_tensor_slices((x_train, y_train)).shuffle(1024, seed=123).batch(batch_size) \n",
        "val_ds = tf.data.Dataset.from_tensor_slices((x_test, y_test)).batch(batch_size) \n",
        "\n",
        "def generate_pair(x,y):    \n",
        "  x = [x.decode(\"utf-8\") for x in x.numpy()]\n",
        "  x = load_data(x)  \n",
        "  return x,y\n",
        "\n",
        "train_ds = train_ds.map(lambda x, y: tf.py_function(generate_pair, [x,y], [tf.float32,tf.int32]))\n",
        "val_ds = val_ds.map(lambda x, y: tf.py_function(generate_pair, [x,y], [tf.float32,tf.int32])) "
      ],
      "metadata": {
        "id": "bPyCL4rPB0Nu"
      },
      "execution_count": 90,
      "outputs": []
    },
    {
      "cell_type": "code",
      "source": [
        "for x, y in train_ds.take(1):\n",
        "    n=10\n",
        "    plt.figure(figsize=(18,6))\n",
        "    plt.imshow(np.concatenate([j for j in x[:n]], axis=1)); \n",
        "    print(y)\n",
        "plt.title(f\"{n} Samples from data pipeline\");"
      ],
      "metadata": {
        "colab": {
          "base_uri": "https://localhost:8080/",
          "height": 355
        },
        "id": "uZucinvdB4d2",
        "outputId": "a35b075b-f743-4293-aafd-71e44c664df0"
      },
      "execution_count": 91,
      "outputs": [
        {
          "output_type": "stream",
          "name": "stderr",
          "text": [
            "<ipython-input-89-e3478bcfdae6>:2: UserWarning:\n",
            "\n",
            "threshold_otsu is expected to work correctly only for grayscale images; image shape (224, 224, 3) looks like that of an RGB image.\n",
            "\n"
          ]
        },
        {
          "output_type": "stream",
          "name": "stdout",
          "text": [
            "tf.Tensor(\n",
            "[26 20  1  1 40 29 53 27 33 30 24 32 24 42 42 51  5 47 21 26 27 45 38 13\n",
            " 22 24  6 49 32 45 49 33 14 10  3 39  5 17 17  5 19 42 45 28 36 32 34 13\n",
            " 22 25 33 25 49 29 23 42 34 20 34  1 17 51 42 21 20 13 23 21 50  6 45 56\n",
            " 31  6  1 28 36 56 47 45 10 45 25 33 46 52 47 12 50 21 58 45 52 20 20 53\n",
            " 20 33 45  1 14 33 45 53 22 11 42 53 55 25 19 34  3 28 10 27 28 59 38 33\n",
            " 25 51 31 49  5 36 23 27], shape=(128,), dtype=int32)\n"
          ]
        },
        {
          "output_type": "display_data",
          "data": {
            "text/plain": [
              "<Figure size 1296x432 with 1 Axes>"
            ],
            "image/png": "[encoded data removed]"
          },
          "metadata": {
            "needs_background": "light"
          }
        }
      ]
    },
    {
      "cell_type": "code",
      "source": [
        "# we can use caching and prefetching to improve performance \n",
        "# https://www.tensorflow.org/guide/data_performance\n",
        "AUTOTUNE = tf.data.AUTOTUNE\n",
        "train_ds = train_ds.prefetch(buffer_size=AUTOTUNE)\n",
        "val_ds = val_ds.prefetch(buffer_size=AUTOTUNE)"
      ],
      "metadata": {
        "id": "pvi51Ts-Cb6o"
      },
      "execution_count": 92,
      "outputs": []
    },
    {
      "cell_type": "code",
      "source": [
        "#build and train model\n",
        "input_shape =(224,224,3)\n",
        "#input_shape =(125,125,3)\n",
        "\n",
        "from tensorflow import keras \n",
        "from tensorflow.keras.models import Model\n",
        "from tensorflow.keras.backend import int_shape\n",
        "from tensorflow.keras import layers\n",
        "from tensorflow.keras.layers import BatchNormalization, Conv2D, Conv2DTranspose, MaxPooling2D, Dropout, Input, concatenate, Cropping2D\n",
        "from tensorflow.keras.applications import  resnet, VGG16, EfficientNetB3\n",
        " \n",
        "def conv2d_block(inputs, dropout=0.2,filters=16, kernel_size=(3, 3), padding=\"same\"):\n",
        "  c = Conv2D( filters,kernel_size,activation=\"relu\",kernel_initializer=\"he_normal\",padding=\"same\", use_bias=False)(inputs)\n",
        "  if dropout > 0.0:\n",
        "    c = Dropout(dropout)(c)\n",
        "  c = Conv2D( filters,kernel_size,activation=\"relu\",kernel_initializer=\"he_normal\",padding=\"same\", use_bias=False)(c)\n",
        "  return c\n",
        " \n",
        "def attach_head(model, normalize_output=True):\n",
        "#     x = Conv2D(filters=64, kernel_size=3, name=\"conv3\", padding='same')(model.output)\n",
        "    x = conv2d_block(model.output, filters=64)\n",
        "    x = MaxPooling2D(pool_size=2)(x)\n",
        "#     x = Conv2D(filters=32, kernel_size=3,  name=\"conv4\" , padding='same')(x)\n",
        "    x = conv2d_block(x, filters=32)\n",
        "    x = MaxPooling2D(pool_size=2)(x) \n",
        "    flatten = layers.Flatten()(x) \n",
        "    output = layers.Dense(256, activation=None)(flatten)\n",
        "    # l2 normalization constrains the embeddings to lie on a hypersphere https://stats.stackexchange.com/questions/248511/purpose-of-l2-normalization-for-triplet-network\n",
        "    output = layers.Lambda(lambda x: tf.math.l2_normalize(x, axis=1))(output) # L2 normalize embeddings\n",
        "    embedding = Model(model.input, output, name=\"Embedding\")\n",
        "    return embedding\n",
        "\n",
        "def full_resnet(input_shape, normalize_output=True):\n",
        "  base_cnn = resnet.ResNet50(\n",
        "    weights=\"imagenet\", input_shape=input_shape, include_top=False\n",
        "  )\n",
        "  return attach_head(base_cnn, normalize_output=normalize_output)\n",
        "\n",
        "def small_resnet(input_shape, layer_name=\"conv4_block6_add\",scratch=False): \n",
        "    base_model = resnet.ResNet50(\n",
        "      weights=\"imagenet\", input_shape=input_shape, include_top=scratch\n",
        "    )    \n",
        "    base_cnn = Model( inputs=base_model.input, outputs=base_model.get_layer(layer_name).output)  \n",
        "    return attach_head(base_cnn)\n",
        "\n",
        "def small_vgg(input_shape): \n",
        "    base_model = VGG16(\n",
        "      weights=\"imagenet\", input_shape=input_shape, include_top=False\n",
        "    ) \n",
        "    base_cnn = Model( inputs=base_model.input, outputs=base_model.get_layer(\"block3_conv1\").output) \n",
        "    return attach_head(base_cnn)"
      ],
      "metadata": {
        "id": "zes-BddTCjFG"
      },
      "execution_count": 93,
      "outputs": []
    },
    {
      "cell_type": "code",
      "source": [
        "all_model_details = [\n",
        "                 {\"name\":\"small_resnet_scratch\", \"model\": small_resnet(input_shape, scratch=True)},\n",
        "                #  {\"name\":\"small_resnet_scratch_nonorm\", \"model\": small_resnet_scratch(input_shape, normalize_output=False)}, \n",
        "                # {\"name\":\"small_vgg\", \"model\": small_vgg(input_shape)},  \n",
        "               #  {\"name\":\"small_resnet\", \"model\": small_resnet(input_shape)},\n",
        "                ##  {\"name\":\"small_resnet_nonorm\", \"model\": small_resnet(input_shape, \"conv4_block6_3_conv\", normalize_output=False)},\n",
        "] "
      ],
      "metadata": {
        "id": "17pgLNVFCmUd"
      },
      "execution_count": 103,
      "outputs": []
    },
    {
      "cell_type": "code",
      "source": [
        " def plot_history(history, title=\"\"):  \n",
        "  # Plot training & validation loss values\n",
        "  plt.plot(history.history['loss'])\n",
        "  plt.plot(history.history['val_loss'])\n",
        "  plt.title('Model Losss | ' + title)\n",
        "  plt.ylabel('Loss')\n",
        "  plt.xlabel('Epoch')\n",
        "  plt.legend(['Train', 'Test'], loc='upper left')\n",
        "  plt.show()"
      ],
      "metadata": {
        "id": "Abwg4nHdCuFd"
      },
      "execution_count": 104,
      "outputs": []
    },
    {
      "cell_type": "code",
      "source": [
        "initial_learning_rate = 0.00001\n",
        "steps_per_epoch = int(len(x_train)/batch_size)\n",
        "lr_schedule = tf.keras.optimizers.schedules.ExponentialDecay(\n",
        "    initial_learning_rate,\n",
        "    decay_steps= steps_per_epoch*2,\n",
        "    decay_rate=0.80,\n",
        "    staircase=False)\n",
        "print(f\"Steps per epoch {steps_per_epoch}\")"
      ],
      "metadata": {
        "colab": {
          "base_uri": "https://localhost:8080/"
        },
        "id": "UChuDuX6CxqH",
        "outputId": "94809d0c-ff95-4127-9667-bf827a54f6a4"
      },
      "execution_count": 105,
      "outputs": [
        {
          "output_type": "stream",
          "name": "stdout",
          "text": [
            "Steps per epoch 16\n"
          ]
        }
      ]
    },
    {
      "cell_type": "code",
      "source": [
        "from time import time\n",
        "\n",
        "def train_models():\n",
        "  trained_models = []\n",
        "  for model_detail in all_model_details: \n",
        "    model, name = model_detail[\"model\"], model_detail[\"name\"]\n",
        "    print(\"Training model >> \", name)\n",
        "    model.compile( optimizer=tf.keras.optimizers.Adam(learning_rate=lr_schedule),  loss=tfa.losses.TripletSemiHardLoss(margin = 0.8)) \n",
        "    start_time = time()\n",
        "    history = model.fit(\n",
        "        train_ds,\n",
        "        #epochs = 20,\n",
        "        epochs = 2,\n",
        "        validation_data = val_ds)\n",
        "    elapsed_time = time() - start_time\n",
        "    plot_history(history, title= \" Triplet Loss - \" + name ) \n",
        "    # save_model(name, model)\n",
        "    trained_models.append({\"name\":name,\"model\": model, \"time\": elapsed_time, \"history\":history.history} )\n",
        "  return trained_models"
      ],
      "metadata": {
        "id": "Vzx3BBrkC3Be"
      },
      "execution_count": 106,
      "outputs": []
    },
    {
      "cell_type": "code",
      "source": [
        "trained_models = train_models()"
      ],
      "metadata": {
        "colab": {
          "base_uri": "https://localhost:8080/",
          "height": 451
        },
        "id": "Px1IeCa_C6Pm",
        "outputId": "51fc0499-d38b-417c-f8cb-58dd1b443730"
      },
      "execution_count": 107,
      "outputs": [
        {
          "output_type": "stream",
          "name": "stdout",
          "text": [
            "Training model >>  small_resnet_scratch\n",
            "Epoch 1/2\n"
          ]
        },
        {
          "output_type": "stream",
          "name": "stderr",
          "text": [
            "<ipython-input-89-e3478bcfdae6>:2: UserWarning:\n",
            "\n",
            "threshold_otsu is expected to work correctly only for grayscale images; image shape (224, 224, 3) looks like that of an RGB image.\n",
            "\n"
          ]
        },
        {
          "output_type": "stream",
          "name": "stdout",
          "text": [
            "17/17 [==============================] - 97s 2s/step - loss: 0.7976 - val_loss: 0.7922\n",
            "Epoch 2/2\n",
            "17/17 [==============================] - 31s 2s/step - loss: 0.7964 - val_loss: 0.7916\n"
          ]
        },
        {
          "output_type": "display_data",
          "data": {
            "text/plain": [
              "<Figure size 432x288 with 1 Axes>"
            ],
            "image/png": "[encoded data removed]"
          },
          "metadata": {
            "needs_background": "light"
          }
        }
      ]
    },
    {
      "cell_type": "code",
      "source": [
        "import plotly.express as px\n",
        "def plot_features(model, title=\"UMAP Embedding Projection\", metric=\"euclidean\"):\n",
        "  test_features = model.predict(val_ds)\n",
        "  print(\"Compute UMAP for vector with shape\", test_features.shape, \" metric:\", metric)\n",
        "  reducer = umap.UMAP(n_neighbors=15, n_components=2, metric=metric)\n",
        "  embedding = reducer.fit_transform(test_features)\n",
        "\n",
        "  colors = [ x for x in y_test] \n",
        "  acm = [class_names[x] for x in colors]\n",
        "\n",
        "  fig = px.scatter(\n",
        "      x=embedding[:, 0],\n",
        "      y=embedding[:, 1],\n",
        "      color=acm,\n",
        "      opacity=0.5,\n",
        "      hover_name=acm,\n",
        "      # symbol=acm,\n",
        "      width=800,\n",
        "      height=600,\n",
        "      title=title,\n",
        "  )\n",
        "  fig.show() "
      ],
      "metadata": {
        "id": "pEGmlf5TlUMH"
      },
      "execution_count": 109,
      "outputs": []
    },
    {
      "cell_type": "code",
      "source": [
        "for model_detail in trained_models:\n",
        "    model = model_detail[\"model\"]\n",
        "    plot_features(model, title=model_detail[\"name\"] )"
      ],
      "metadata": {
        "colab": {
          "base_uri": "https://localhost:8080/",
          "height": 721
        },
        "id": "7oubd1HUlZq9",
        "outputId": "5fd2f960-75d4-4986-fec3-42717a19a16a"
      },
      "execution_count": 110,
      "outputs": [
        {
          "output_type": "stream",
          "name": "stderr",
          "text": [
            "<ipython-input-89-e3478bcfdae6>:2: UserWarning:\n",
            "\n",
            "threshold_otsu is expected to work correctly only for grayscale images; image shape (224, 224, 3) looks like that of an RGB image.\n",
            "\n"
          ]
        },
        {
          "output_type": "stream",
          "name": "stdout",
          "text": [
            "5/5 [==============================] - 7s 1s/step\n",
            "Compute UMAP for vector with shape (528, 256)  metric: euclidean\n"
          ]
        },
        {
          "output_type": "display_data",
          "data": {
            "text/html": [
              "<html>\n",
              "<head><meta charset=\"utf-8\" /></head>\n",
              "<body>\n",
              "    <div>            <script src=\"https://cdnjs.cloudflare.com/ajax/libs/mathjax/2.7.5/MathJax.js?config=TeX-AMS-MML_SVG\"></script><script type=\"text/javascript\">if (window.MathJax) {MathJax.Hub.Config({SVG: {font: \"STIX-Web\"}});}</script>                <script type=\"text/javascript\">window.PlotlyConfig = {MathJaxConfig: 'local'};</script>\n",
              "        <script src=\"https://cdn.plot.ly/plotly-2.8.3.min.js\"></script>                <div id=\"64a414eb-b1f8-499c-8521-2097271ef87a\" class=\"plotly-graph-div\" style=\"height:600px; width:800px;\"></div>            <script type=\"text/javascript\">                                    window.PLOTLYENV=window.PLOTLYENV || {};                                    if (document.getElementById(\"64a414eb-b1f8-499c-8521-2097271ef87a\")) {                    Plotly.newPlot(                        \"64a414eb-b1f8-499c-8521-2097271ef87a\",                        [{\"hovertemplate\":\"<b>%{hovertext}</b><br><br>color=s2<br>x=%{x}<br>y=%{y}<extra></extra>\",\"hovertext\":[\"s2\",\"s2\",\"s2\",\"s2\",\"s2\",\"s2\",\"s2\",\"s2\",\"s2\",\"s2\",\"s2\",\"s2\",\"s2\",\"s2\",\"s2\",\"s2\",\"s2\",\"s2\",\"s2\",\"s2\",\"s2\",\"s2\",\"s2\",\"s2\"],\"legendgroup\":\"s2\",\"marker\":{\"color\":\"#636efa\",\"opacity\":0.5,\"symbol\":\"circle\"},\"mode\":\"markers\",\"name\":\"s2\",\"orientation\":\"v\",\"showlegend\":true,\"x\":[0.8510051369667053,2.9960734844207764,1.0996509790420532,0.3129962086677551,3.292921304702759,2.723210334777832,1.1238991022109985,0.625144898891449,4.015735149383545,3.808042049407959,3.417168617248535,3.2382733821868896,2.6434149742126465,2.816986560821533,1.4296492338180542,2.5403342247009277,2.8513200283050537,0.5869887471199036,2.910432815551758,1.692841649055481,3.033235549926758,2.9884097576141357,1.625112771987915,1.4786933660507202],\"xaxis\":\"x\",\"y\":[13.019408226013184,12.75790023803711,12.678794860839844,12.675682067871094,12.548663139343262,12.688618659973145,12.519057273864746,13.267973899841309,12.264110565185547,12.110042572021484,12.152368545532227,12.570283889770508,12.760320663452148,12.783740997314453,12.670586585998535,12.67877197265625,12.519620895385742,13.229527473449707,12.640214920043945,12.655939102172852,12.536847114562988,12.595324516296387,12.536335945129395,12.849294662475586],\"yaxis\":\"y\",\"type\":\"scatter\"},{\"hovertemplate\":\"<b>%{hovertext}</b><br><br>color=s7<br>x=%{x}<br>y=%{y}<extra></extra>\",\"hovertext\":[\"s7\",\"s7\",\"s7\",\"s7\",\"s7\",\"s7\",\"s7\",\"s7\",\"s7\",\"s7\",\"s7\",\"s7\",\"s7\",\"s7\",\"s7\",\"s7\",\"s7\",\"s7\",\"s7\",\"s7\",\"s7\",\"s7\",\"s7\",\"s7\"],\"legendgroup\":\"s7\",\"marker\":{\"color\":\"#EF553B\",\"opacity\":0.5,\"symbol\":\"circle\"},\"mode\":\"markers\",\"name\":\"s7\",\"orientation\":\"v\",\"showlegend\":true,\"x\":[16.9028263092041,16.463682174682617,16.858043670654297,16.8372859954834,16.590877532958984,16.843435287475586,16.786102294921875,16.384624481201172,16.87608528137207,16.771160125732422,16.801076889038086,16.698898315429688,16.65238380432129,16.629804611206055,16.57042121887207,16.854482650756836,16.490293502807617,16.531307220458984,16.8283634185791,16.5666561126709,16.433856964111328,16.7449951171875,16.85089874267578,16.83608627319336],\"xaxis\":\"x\",\"y\":[4.003048419952393,3.745614528656006,4.1305646896362305,4.417959690093994,3.8636388778686523,3.9880802631378174,4.470616817474365,3.8851161003112793,4.066281318664551,4.103915214538574,3.948961019515991,4.608243942260742,4.152964115142822,3.9152462482452393,3.7533960342407227,4.08387565612793,3.786648750305176,3.8298354148864746,4.1778035163879395,3.8314688205718994,4.0881476402282715,4.18259859085083,4.053076267242432,4.056000232696533],\"yaxis\":\"y\",\"type\":\"scatter\"},{\"hovertemplate\":\"<b>%{hovertext}</b><br><br>color=s8<br>x=%{x}<br>y=%{y}<extra></extra>\",\"hovertext\":[\"s8\",\"s8\",\"s8\",\"s8\",\"s8\",\"s8\",\"s8\",\"s8\",\"s8\",\"s8\",\"s8\",\"s8\",\"s8\",\"s8\",\"s8\",\"s8\",\"s8\",\"s8\",\"s8\",\"s8\",\"s8\",\"s8\",\"s8\",\"s8\"],\"legendgroup\":\"s8\",\"marker\":{\"color\":\"#00cc96\",\"opacity\":0.5,\"symbol\":\"circle\"},\"mode\":\"markers\",\"name\":\"s8\",\"orientation\":\"v\",\"showlegend\":true,\"x\":[7.730008602142334,7.472823619842529,16.801803588867188,7.7671942710876465,7.589261531829834,8.898858070373535,7.201733589172363,7.891927719116211,8.531854629516602,8.308834075927734,7.6213812828063965,9.12844467163086,8.57624626159668,7.61750602722168,8.614527702331543,9.141815185546875,7.6511311531066895,7.975613117218018,7.553282737731934,7.636219024658203,8.36775016784668,7.724581718444824,7.656955718994141,7.736317157745361],\"xaxis\":\"x\",\"y\":[10.502054214477539,10.115480422973633,4.9169416427612305,10.664603233337402,10.43059253692627,10.913802146911621,9.84445571899414,10.922183990478516,10.648942947387695,10.700922966003418,10.679777145385742,10.85018539428711,10.766554832458496,10.74630069732666,10.707066535949707,10.811417579650879,10.758206367492676,11.093708992004395,10.692618370056152,10.700005531311035,10.760197639465332,10.721601486206055,10.82510757446289,9.809535026550293],\"yaxis\":\"y\",\"type\":\"scatter\"},{\"hovertemplate\":\"<b>%{hovertext}</b><br><br>color=s9<br>x=%{x}<br>y=%{y}<extra></extra>\",\"hovertext\":[\"s9\",\"s9\",\"s9\",\"s9\",\"s9\",\"s9\",\"s9\",\"s9\",\"s9\",\"s9\",\"s9\",\"s9\",\"s9\",\"s9\",\"s9\",\"s9\",\"s9\",\"s9\",\"s9\",\"s9\",\"s9\",\"s9\",\"s9\",\"s9\"],\"legendgroup\":\"s9\",\"marker\":{\"color\":\"#ab63fa\",\"opacity\":0.5,\"symbol\":\"circle\"},\"mode\":\"markers\",\"name\":\"s9\",\"orientation\":\"v\",\"showlegend\":true,\"x\":[4.040943622589111,4.307739734649658,4.330784320831299,4.589775085449219,4.477087020874023,4.8952956199646,5.02225399017334,4.800172328948975,4.662669658660889,5.056582450866699,4.935171604156494,2.8583080768585205,4.88079833984375,4.567460536956787,5.211515426635742,5.048623085021973,5.129630088806152,4.967077732086182,5.038367748260498,4.531376361846924,5.030485153198242,4.92695951461792,4.832780838012695,5.114764213562012],\"xaxis\":\"x\",\"y\":[11.578839302062988,10.799712181091309,10.686311721801758,10.572335243225098,10.660924911499023,10.211849212646484,10.510727882385254,10.475577354431152,9.790884017944336,10.23155403137207,10.490967750549316,11.720845222473145,10.421232223510742,10.620538711547852,10.49621868133545,10.263607025146484,10.147825241088867,10.318148612976074,10.314876556396484,10.679059028625488,10.082898139953613,10.296110153198242,10.125520706176758,10.278468132019043],\"yaxis\":\"y\",\"type\":\"scatter\"},{\"hovertemplate\":\"<b>%{hovertext}</b><br><br>color=s15<br>x=%{x}<br>y=%{y}<extra></extra>\",\"hovertext\":[\"s15\",\"s15\",\"s15\",\"s15\",\"s15\",\"s15\",\"s15\",\"s15\",\"s15\",\"s15\",\"s15\",\"s15\",\"s15\",\"s15\",\"s15\",\"s15\",\"s15\",\"s15\",\"s15\",\"s15\",\"s15\",\"s15\",\"s15\",\"s15\"],\"legendgroup\":\"s15\",\"marker\":{\"color\":\"#FFA15A\",\"opacity\":0.5,\"symbol\":\"circle\"},\"mode\":\"markers\",\"name\":\"s15\",\"orientation\":\"v\",\"showlegend\":true,\"x\":[2.4184701442718506,2.510207414627075,0.10776074230670929,2.2988955974578857,3.7424418926239014,2.6884477138519287,2.389746904373169,3.5213067531585693,2.529489517211914,3.8581016063690186,3.8176465034484863,0.1303928792476654,2.3888611793518066,2.4638354778289795,2.3270509243011475,2.477616786956787,2.3798863887786865,2.391939163208008,2.353337287902832,2.3495779037475586,3.8211472034454346,3.868337392807007,3.789684534072876,2.437103271484375],\"xaxis\":\"x\",\"y\":[9.406583786010742,9.40571403503418,12.687684059143066,9.949237823486328,10.390442848205566,9.460737228393555,9.256001472473145,10.256771087646484,9.433815956115723,10.513522148132324,10.73297119140625,12.664290428161621,9.613272666931152,9.791642189025879,9.681889533996582,9.4365873336792,9.532098770141602,9.6142578125,9.52108097076416,9.645586967468262,10.403775215148926,10.808308601379395,10.293708801269531,9.3977689743042],\"yaxis\":\"y\",\"type\":\"scatter\"},{\"hovertemplate\":\"<b>%{hovertext}</b><br><br>color=s16<br>x=%{x}<br>y=%{y}<extra></extra>\",\"hovertext\":[\"s16\",\"s16\",\"s16\",\"s16\",\"s16\",\"s16\",\"s16\",\"s16\",\"s16\",\"s16\",\"s16\",\"s16\",\"s16\",\"s16\",\"s16\",\"s16\",\"s16\",\"s16\",\"s16\",\"s16\",\"s16\",\"s16\",\"s16\",\"s16\"],\"legendgroup\":\"s16\",\"marker\":{\"color\":\"#19d3f3\",\"opacity\":0.5,\"symbol\":\"circle\"},\"mode\":\"markers\",\"name\":\"s16\",\"orientation\":\"v\",\"showlegend\":true,\"x\":[2.387871742248535,1.4194673299789429,4.173949241638184,0.8224139213562012,0.9907509088516235,4.097529888153076,3.761448621749878,0.5723081231117249,4.436857223510742,9.783148765563965,4.037339210510254,5.72022008895874,3.8636984825134277,4.17020845413208,4.106090545654297,1.7631464004516602,4.0153679847717285,1.4194697141647339,4.865022659301758,3.1235315799713135,3.764070510864258,4.0252299308776855,4.197816371917725,1.8594406843185425],\"xaxis\":\"x\",\"y\":[12.636929512023926,12.424235343933105,12.46041202545166,12.503726959228516,12.64384937286377,12.428064346313477,12.392184257507324,12.409204483032227,12.30618667602539,11.012066841125488,12.347635269165039,12.074703216552734,12.390751838684082,12.496280670166016,12.459512710571289,12.259713172912598,12.437468528747559,12.069337844848633,12.099752426147461,12.253352165222168,12.431619644165039,12.381143569946289,12.554472923278809,11.819631576538086],\"yaxis\":\"y\",\"type\":\"scatter\"},{\"hovertemplate\":\"<b>%{hovertext}</b><br><br>color=s18<br>x=%{x}<br>y=%{y}<extra></extra>\",\"hovertext\":[\"s18\",\"s18\",\"s18\",\"s18\",\"s18\",\"s18\",\"s18\",\"s18\",\"s18\",\"s18\",\"s18\",\"s18\",\"s18\",\"s18\",\"s18\",\"s18\",\"s18\",\"s18\",\"s18\",\"s18\",\"s18\",\"s18\",\"s18\",\"s18\"],\"legendgroup\":\"s18\",\"marker\":{\"color\":\"#FF6692\",\"opacity\":0.5,\"symbol\":\"circle\"},\"mode\":\"markers\",\"name\":\"s18\",\"orientation\":\"v\",\"showlegend\":true,\"x\":[3.406085968017578,4.007144927978516,4.171414852142334,3.8217356204986572,3.222001314163208,3.1636266708374023,3.5859837532043457,3.352142333984375,4.135544776916504,3.870487928390503,10.008386611938477,3.786465644836426,3.8260059356689453,3.1841719150543213,3.7995238304138184,4.207560062408447,3.942239284515381,3.1610231399536133,3.064595937728882,3.1415183544158936,3.977484703063965,4.060420513153076,4.237165451049805,3.8648319244384766],\"xaxis\":\"x\",\"y\":[9.935367584228516,9.462045669555664,9.559481620788574,9.593968391418457,10.20866870880127,10.613046646118164,9.732952117919922,10.123332023620605,9.521656036376953,9.572067260742188,10.780170440673828,9.56689739227295,9.497750282287598,10.263521194458008,9.584576606750488,9.529650688171387,9.872339248657227,10.58601188659668,10.754100799560547,10.70325756072998,9.587080955505371,9.592843055725098,9.50776481628418,9.523237228393555],\"yaxis\":\"y\",\"type\":\"scatter\"},{\"hovertemplate\":\"<b>%{hovertext}</b><br><br>color=s35<br>x=%{x}<br>y=%{y}<extra></extra>\",\"hovertext\":[\"s35\",\"s35\",\"s35\",\"s35\",\"s35\",\"s35\",\"s35\",\"s35\",\"s35\",\"s35\",\"s35\",\"s35\",\"s35\",\"s35\",\"s35\",\"s35\",\"s35\",\"s35\",\"s35\",\"s35\",\"s35\",\"s35\",\"s35\",\"s35\"],\"legendgroup\":\"s35\",\"marker\":{\"color\":\"#B6E880\",\"opacity\":0.5,\"symbol\":\"circle\"},\"mode\":\"markers\",\"name\":\"s35\",\"orientation\":\"v\",\"showlegend\":true,\"x\":[8.828495025634766,9.454939842224121,9.254517555236816,8.760293960571289,9.167574882507324,8.6958589553833,9.303937911987305,9.133672714233398,9.401790618896484,9.094663619995117,9.150419235229492,8.992841720581055,9.260396003723145,9.077681541442871,9.152519226074219,8.748684883117676,9.082880973815918,9.149837493896484,8.961604118347168,9.207234382629395,9.140686988830566,9.577709197998047,9.226339340209961,8.790575981140137],\"xaxis\":\"x\",\"y\":[12.304354667663574,11.530835151672363,12.319121360778809,12.389312744140625,12.370322227478027,12.498943328857422,12.03218936920166,12.301863670349121,11.567809104919434,11.946209907531738,11.823244094848633,12.196990013122559,12.196019172668457,12.348371505737305,12.410273551940918,12.414365768432617,12.393655776977539,11.985088348388672,11.982538223266602,12.09416675567627,11.971330642700195,11.474184036254883,11.943510055541992,12.398689270019531],\"yaxis\":\"y\",\"type\":\"scatter\"},{\"hovertemplate\":\"<b>%{hovertext}</b><br><br>color=s41<br>x=%{x}<br>y=%{y}<extra></extra>\",\"hovertext\":[\"s41\",\"s41\",\"s41\",\"s41\",\"s41\",\"s41\",\"s41\",\"s41\",\"s41\",\"s41\",\"s41\",\"s41\",\"s41\",\"s41\",\"s41\",\"s41\",\"s41\",\"s41\",\"s41\",\"s41\",\"s41\",\"s41\",\"s41\",\"s41\"],\"legendgroup\":\"s41\",\"marker\":{\"color\":\"#FF97FF\",\"opacity\":0.5,\"symbol\":\"circle\"},\"mode\":\"markers\",\"name\":\"s41\",\"orientation\":\"v\",\"showlegend\":true,\"x\":[5.917034149169922,6.27088737487793,6.4793219566345215,6.850534915924072,6.6892409324646,5.841078758239746,5.805049896240234,6.040010929107666,5.940250396728516,5.720402240753174,6.1637959480285645,6.524240493774414,5.814983367919922,5.816954612731934,5.538729667663574,5.6499433517456055,5.322495460510254,5.647819519042969,5.267332077026367,5.674253463745117,6.117753982543945,6.556453704833984,5.857335567474365,5.660987854003906],\"xaxis\":\"x\",\"y\":[11.559286117553711,11.641960144042969,11.563715934753418,12.131540298461914,11.820093154907227,11.098265647888184,10.714401245117188,10.994987487792969,11.003623008728027,11.19798755645752,11.134234428405762,11.744455337524414,11.42673110961914,11.28868579864502,11.270151138305664,11.329423904418945,11.131644248962402,11.318647384643555,10.530040740966797,10.61761474609375,10.740964889526367,11.724761962890625,11.13776969909668,11.310346603393555],\"yaxis\":\"y\",\"type\":\"scatter\"},{\"hovertemplate\":\"<b>%{hovertext}</b><br><br>color=s44<br>x=%{x}<br>y=%{y}<extra></extra>\",\"hovertext\":[\"s44\",\"s44\",\"s44\",\"s44\",\"s44\",\"s44\",\"s44\",\"s44\",\"s44\",\"s44\",\"s44\",\"s44\",\"s44\",\"s44\",\"s44\",\"s44\",\"s44\",\"s44\",\"s44\",\"s44\",\"s44\",\"s44\",\"s44\",\"s44\"],\"legendgroup\":\"s44\",\"marker\":{\"color\":\"#FECB52\",\"opacity\":0.5,\"symbol\":\"circle\"},\"mode\":\"markers\",\"name\":\"s44\",\"orientation\":\"v\",\"showlegend\":true,\"x\":[9.55447006225586,9.184764862060547,9.830947875976562,9.337860107421875,0.5648013949394226,9.980402946472168,10.122882843017578,9.227789878845215,10.055354118347168,9.951621055603027,9.253113746643066,9.904001235961914,9.109258651733398,9.203001022338867,9.412467002868652,9.316134452819824,9.3253812789917,9.493077278137207,9.273566246032715,10.01981258392334,9.984620094299316,9.191883087158203,9.412640571594238,8.281147003173828],\"xaxis\":\"x\",\"y\":[10.68588638305664,11.0670166015625,10.817768096923828,11.009842872619629,13.06591510772705,10.849294662475586,10.89397144317627,11.032816886901855,10.790083885192871,10.863990783691406,11.094082832336426,10.736960411071777,11.235644340515137,10.969788551330566,10.884942054748535,10.908771514892578,11.05728816986084,10.788601875305176,11.033602714538574,10.815160751342773,10.833414077758789,11.142943382263184,10.920511245727539,11.65352725982666],\"yaxis\":\"y\",\"type\":\"scatter\"},{\"hovertemplate\":\"<b>%{hovertext}</b><br><br>color=s48<br>x=%{x}<br>y=%{y}<extra></extra>\",\"hovertext\":[\"s48\",\"s48\",\"s48\",\"s48\",\"s48\",\"s48\",\"s48\",\"s48\",\"s48\",\"s48\",\"s48\",\"s48\",\"s48\",\"s48\",\"s48\",\"s48\",\"s48\",\"s48\",\"s48\",\"s48\",\"s48\",\"s48\",\"s48\",\"s48\"],\"legendgroup\":\"s48\",\"marker\":{\"color\":\"#636efa\",\"opacity\":0.5,\"symbol\":\"circle\"},\"mode\":\"markers\",\"name\":\"s48\",\"orientation\":\"v\",\"showlegend\":true,\"x\":[-4.014492988586426,-3.969221830368042,-4.0767822265625,-4.059691429138184,-4.065532684326172,-3.8597288131713867,-3.21596097946167,-2.5776305198669434,-3.8062727451324463,-2.5065319538116455,-2.5757031440734863,-4.118107795715332,-3.5162506103515625,-3.5939419269561768,-4.035598278045654,-3.450387477874756,-3.5054690837860107,-4.100381374359131,-3.944469690322876,-3.375166893005371,-3.9322383403778076,-3.401200532913208,-3.548733711242676,-3.611774206161499],\"xaxis\":\"x\",\"y\":[4.824467182159424,4.8118109703063965,4.585294246673584,4.693691253662109,4.876467704772949,4.772902011871338,4.7227044105529785,4.611382961273193,4.698160171508789,4.569883346557617,4.487578868865967,4.614410877227783,4.828176021575928,5.061504364013672,4.541844367980957,4.866997718811035,4.890519618988037,4.5888824462890625,4.730693340301514,4.844566822052002,4.7392778396606445,4.744888782501221,4.821618556976318,5.157714366912842],\"yaxis\":\"y\",\"type\":\"scatter\"},{\"hovertemplate\":\"<b>%{hovertext}</b><br><br>color=frg2<br>x=%{x}<br>y=%{y}<extra></extra>\",\"hovertext\":[\"frg2\",\"frg2\",\"frg2\",\"frg2\",\"frg2\",\"frg2\",\"frg2\",\"frg2\",\"frg2\",\"frg2\",\"frg2\",\"frg2\",\"frg2\",\"frg2\",\"frg2\",\"frg2\",\"frg2\",\"frg2\",\"frg2\",\"frg2\",\"frg2\",\"frg2\",\"frg2\",\"frg2\"],\"legendgroup\":\"frg2\",\"marker\":{\"color\":\"#EF553B\",\"opacity\":0.5,\"symbol\":\"circle\"},\"mode\":\"markers\",\"name\":\"frg2\",\"orientation\":\"v\",\"showlegend\":true,\"x\":[0.5070623755455017,1.1160439252853394,0.6337032318115234,0.7642291784286499,0.9578894972801208,0.4463858902454376,3.9034292697906494,0.25582700967788696,0.2302035242319107,0.5421764254570007,0.3584529161453247,0.3993508517742157,0.33098742365837097,0.5576367378234863,0.25247806310653687,0.2838961184024811,0.549187183380127,0.8011067509651184,0.8452744483947754,0.5211319327354431,0.4929058849811554,0.2481110841035843,0.4566897749900818,0.8549863696098328],\"xaxis\":\"x\",\"y\":[12.907171249389648,12.67063045501709,12.536087989807129,12.615111351013184,12.696882247924805,12.778270721435547,12.176599502563477,12.53539752960205,12.707168579101562,12.297990798950195,12.63293170928955,12.843416213989258,13.019342422485352,13.04719352722168,12.729658126831055,12.616809844970703,13.11463451385498,12.937213897705078,12.5477876663208,13.07585334777832,12.709274291992188,12.91541862487793,13.015071868896484,12.392450332641602],\"yaxis\":\"y\",\"type\":\"scatter\"},{\"hovertemplate\":\"<b>%{hovertext}</b><br><br>color=frg7<br>x=%{x}<br>y=%{y}<extra></extra>\",\"hovertext\":[\"frg7\",\"frg7\",\"frg7\",\"frg7\",\"frg7\",\"frg7\",\"frg7\",\"frg7\",\"frg7\",\"frg7\",\"frg7\",\"frg7\",\"frg7\",\"frg7\",\"frg7\",\"frg7\",\"frg7\",\"frg7\",\"frg7\",\"frg7\",\"frg7\",\"frg7\",\"frg7\",\"frg7\"],\"legendgroup\":\"frg7\",\"marker\":{\"color\":\"#00cc96\",\"opacity\":0.5,\"symbol\":\"circle\"},\"mode\":\"markers\",\"name\":\"frg7\",\"orientation\":\"v\",\"showlegend\":true,\"x\":[16.654930114746094,16.9293270111084,16.71884536743164,16.78729820251465,16.87809181213379,16.844160079956055,17.160242080688477,17.0810489654541,17.122804641723633,17.074771881103516,17.105504989624023,16.712289810180664,16.747509002685547,16.93483543395996,16.75423812866211,17.089523315429688,16.947999954223633,17.05184555053711,16.300621032714844,17.203174591064453,17.072338104248047,9.968010902404785,16.95732879638672,16.72743797302246],\"xaxis\":\"x\",\"y\":[5.349322319030762,5.3410725593566895,5.087518215179443,5.162470817565918,5.189486503601074,5.043590545654297,5.356496810913086,5.262752056121826,5.341293811798096,5.306381702423096,5.259510517120361,5.3413519859313965,5.448587417602539,5.043254375457764,5.4617815017700195,5.255010604858398,5.13361120223999,5.373283386230469,4.376611709594727,5.519761562347412,5.2970733642578125,10.7083158493042,5.260951995849609,5.523870468139648],\"yaxis\":\"y\",\"type\":\"scatter\"},{\"hovertemplate\":\"<b>%{hovertext}</b><br><br>color=frg8<br>x=%{x}<br>y=%{y}<extra></extra>\",\"hovertext\":[\"frg8\",\"frg8\",\"frg8\",\"frg8\",\"frg8\",\"frg8\",\"frg8\",\"frg8\",\"frg8\",\"frg8\",\"frg8\",\"frg8\",\"frg8\",\"frg8\",\"frg8\",\"frg8\",\"frg8\",\"frg8\",\"frg8\",\"frg8\",\"frg8\",\"frg8\",\"frg8\",\"frg8\"],\"legendgroup\":\"frg8\",\"marker\":{\"color\":\"#ab63fa\",\"opacity\":0.5,\"symbol\":\"circle\"},\"mode\":\"markers\",\"name\":\"frg8\",\"orientation\":\"v\",\"showlegend\":true,\"x\":[8.422159194946289,7.603643417358398,8.496198654174805,7.916764736175537,7.920497417449951,7.497147560119629,7.648155689239502,7.223698616027832,7.658884525299072,7.1153106689453125,7.241048336029053,7.582131862640381,7.574610233306885,7.899063587188721,7.205234050750732,7.556143760681152,7.745140552520752,7.268347263336182,7.613363742828369,7.7720723152160645,7.546260356903076,7.563679218292236,7.666311740875244,7.642739772796631],\"xaxis\":\"x\",\"y\":[12.410521507263184,10.7680025100708,12.146902084350586,9.85963249206543,9.995171546936035,10.539116859436035,10.313761711120605,9.90416431427002,9.952466011047363,10.06137752532959,9.86240005493164,10.052367210388184,9.460362434387207,9.585290908813477,10.772481918334961,9.447307586669922,9.930132865905762,10.677706718444824,9.341979026794434,9.272624969482422,9.405203819274902,9.597681999206543,9.318719863891602,9.323283195495605],\"yaxis\":\"y\",\"type\":\"scatter\"},{\"hovertemplate\":\"<b>%{hovertext}</b><br><br>color=frg9<br>x=%{x}<br>y=%{y}<extra></extra>\",\"hovertext\":[\"frg9\",\"frg9\",\"frg9\",\"frg9\",\"frg9\",\"frg9\",\"frg9\",\"frg9\",\"frg9\",\"frg9\",\"frg9\",\"frg9\",\"frg9\",\"frg9\",\"frg9\",\"frg9\",\"frg9\",\"frg9\",\"frg9\",\"frg9\",\"frg9\",\"frg9\",\"frg9\",\"frg9\"],\"legendgroup\":\"frg9\",\"marker\":{\"color\":\"#FFA15A\",\"opacity\":0.5,\"symbol\":\"circle\"},\"mode\":\"markers\",\"name\":\"frg9\",\"orientation\":\"v\",\"showlegend\":true,\"x\":[3.1755008697509766,3.470489978790283,0.9265230298042297,3.2957818508148193,3.2286951541900635,3.076082468032837,5.0006422996521,4.9191765785217285,1.8094615936279297,5.0012688636779785,4.9408369064331055,3.1510050296783447,0.5852271914482117,0.3710876703262329,2.938155174255371,0.3883248269557953,1.255625605583191,3.3696203231811523,3.1550729274749756,3.6229610443115234,3.401170253753662,3.9172329902648926,3.0957562923431396,3.8649206161499023],\"xaxis\":\"x\",\"y\":[10.804237365722656,11.23939037322998,12.306150436401367,11.21542739868164,11.272799491882324,10.968302726745605,10.377260208129883,10.141701698303223,12.203282356262207,10.324552536010742,10.410024642944336,10.79663372039795,12.999480247497559,13.057147026062012,11.702377319335938,13.13411808013916,12.479790687561035,11.381561279296875,11.318792343139648,11.309652328491211,11.406455039978027,11.504566192626953,11.44333267211914,11.456376075744629],\"yaxis\":\"y\",\"type\":\"scatter\"},{\"hovertemplate\":\"<b>%{hovertext}</b><br><br>color=frg15<br>x=%{x}<br>y=%{y}<extra></extra>\",\"hovertext\":[\"frg15\",\"frg15\",\"frg15\",\"frg15\",\"frg15\",\"frg15\",\"frg15\",\"frg15\",\"frg15\",\"frg15\",\"frg15\",\"frg15\",\"frg15\",\"frg15\",\"frg15\",\"frg15\",\"frg15\",\"frg15\",\"frg15\",\"frg15\",\"frg15\",\"frg15\",\"frg15\",\"frg15\"],\"legendgroup\":\"frg15\",\"marker\":{\"color\":\"#19d3f3\",\"opacity\":0.5,\"symbol\":\"circle\"},\"mode\":\"markers\",\"name\":\"frg15\",\"orientation\":\"v\",\"showlegend\":true,\"x\":[1.6083396673202515,1.6643542051315308,1.6850076913833618,1.4913691282272339,2.1003432273864746,0.46505337953567505,1.421597957611084,1.4116894006729126,1.6853216886520386,1.7550772428512573,2.8145172595977783,2.0871405601501465,1.756337285041809,1.7625030279159546,1.574398398399353,1.6719791889190674,2.010517120361328,1.5723985433578491,1.6307562589645386,1.5580098628997803,1.5042239427566528,1.503413438796997,1.989052414894104,1.553431510925293],\"xaxis\":\"x\",\"y\":[11.08881664276123,10.847562789916992,10.88516616821289,10.979817390441895,10.977208137512207,12.492507934570312,11.606874465942383,11.51168155670166,11.623725891113281,11.8983793258667,10.470564842224121,10.706892967224121,10.767004013061523,10.747143745422363,11.034422874450684,10.941575050354004,10.74448299407959,10.729161262512207,10.582695960998535,10.644084930419922,11.423311233520508,11.472833633422852,10.914710998535156,11.071754455566406],\"yaxis\":\"y\",\"type\":\"scatter\"},{\"hovertemplate\":\"<b>%{hovertext}</b><br><br>color=frg16<br>x=%{x}<br>y=%{y}<extra></extra>\",\"hovertext\":[\"frg16\",\"frg16\",\"frg16\",\"frg16\",\"frg16\",\"frg16\",\"frg16\",\"frg16\",\"frg16\",\"frg16\",\"frg16\",\"frg16\",\"frg16\",\"frg16\",\"frg16\",\"frg16\",\"frg16\",\"frg16\",\"frg16\",\"frg16\",\"frg16\",\"frg16\",\"frg16\",\"frg16\"],\"legendgroup\":\"frg16\",\"marker\":{\"color\":\"#FF6692\",\"opacity\":0.5,\"symbol\":\"circle\"},\"mode\":\"markers\",\"name\":\"frg16\",\"orientation\":\"v\",\"showlegend\":true,\"x\":[2.7253594398498535,2.598731279373169,2.4551992416381836,1.1583391427993774,1.2813223600387573,2.8559892177581787,1.4972100257873535,1.1602044105529785,2.5734591484069824,2.5799648761749268,2.650238037109375,2.878817319869995,1.969492793083191,2.1582019329071045,2.080472469329834,2.02681565284729,2.0861566066741943,1.8074835538864136,1.602483868598938,2.010977029800415,1.7572978734970093,1.90969717502594,1.948108196258545,2.2626235485076904],\"xaxis\":\"x\",\"y\":[12.783830642700195,12.796503067016602,12.75964069366455,12.797252655029297,12.722025871276855,12.490872383117676,12.792205810546875,12.969829559326172,12.963899612426758,12.911641120910645,12.805739402770996,12.50340461730957,11.65703010559082,11.593762397766113,11.541557312011719,11.450435638427734,11.606810569763184,11.578926086425781,11.786399841308594,11.427626609802246,11.615339279174805,11.141666412353516,11.703377723693848,11.750389099121094],\"yaxis\":\"y\",\"type\":\"scatter\"},{\"hovertemplate\":\"<b>%{hovertext}</b><br><br>color=frg18<br>x=%{x}<br>y=%{y}<extra></extra>\",\"hovertext\":[\"frg18\",\"frg18\",\"frg18\",\"frg18\",\"frg18\",\"frg18\",\"frg18\",\"frg18\",\"frg18\",\"frg18\",\"frg18\",\"frg18\",\"frg18\",\"frg18\",\"frg18\",\"frg18\",\"frg18\",\"frg18\",\"frg18\",\"frg18\",\"frg18\",\"frg18\",\"frg18\",\"frg18\"],\"legendgroup\":\"frg18\",\"marker\":{\"color\":\"#B6E880\",\"opacity\":0.5,\"symbol\":\"circle\"},\"mode\":\"markers\",\"name\":\"frg18\",\"orientation\":\"v\",\"showlegend\":true,\"x\":[3.4650087356567383,3.3757431507110596,3.1539812088012695,3.570460796356201,3.4656970500946045,3.1719422340393066,3.3196263313293457,3.5103979110717773,3.2627756595611572,3.3973746299743652,3.137871265411377,3.3383538722991943,3.347506284713745,3.347346305847168,3.1731133460998535,3.501768112182617,3.390406370162964,3.2193448543548584,3.4257261753082275,3.4051175117492676,3.2230372428894043,3.339999198913574,3.479200839996338,3.1893603801727295],\"xaxis\":\"x\",\"y\":[14.649657249450684,14.70627498626709,15.191719055175781,14.57323169708252,14.71624755859375,15.161735534667969,14.920992851257324,14.741223335266113,14.98389720916748,14.930554389953613,15.167474746704102,14.855021476745605,14.963995933532715,15.006945610046387,15.121997833251953,14.661738395690918,14.943625450134277,15.127046585083008,14.85108470916748,14.941072463989258,15.071417808532715,14.811663627624512,14.754009246826172,14.723715782165527],\"yaxis\":\"y\",\"type\":\"scatter\"},{\"hovertemplate\":\"<b>%{hovertext}</b><br><br>color=frg35<br>x=%{x}<br>y=%{y}<extra></extra>\",\"hovertext\":[\"frg35\",\"frg35\",\"frg35\",\"frg35\",\"frg35\",\"frg35\",\"frg35\",\"frg35\",\"frg35\",\"frg35\",\"frg35\",\"frg35\",\"frg35\",\"frg35\",\"frg35\",\"frg35\",\"frg35\",\"frg35\",\"frg35\",\"frg35\",\"frg35\",\"frg35\",\"frg35\",\"frg35\"],\"legendgroup\":\"frg35\",\"marker\":{\"color\":\"#FF97FF\",\"opacity\":0.5,\"symbol\":\"circle\"},\"mode\":\"markers\",\"name\":\"frg35\",\"orientation\":\"v\",\"showlegend\":true,\"x\":[8.592119216918945,8.923835754394531,8.249695777893066,8.288515090942383,8.49559211730957,8.400705337524414,8.643489837646484,8.714672088623047,8.182004928588867,8.590599060058594,8.308296203613281,8.992012977600098,8.649197578430176,8.767522811889648,9.028700828552246,8.596735000610352,8.84862995147705,8.134178161621094,8.65941047668457,8.832767486572266,8.357542991638184,8.726656913757324,8.501154899597168,8.148343086242676],\"xaxis\":\"x\",\"y\":[11.708621978759766,11.315863609313965,12.099664688110352,11.871162414550781,12.041481971740723,11.716663360595703,11.613241195678711,11.509773254394531,11.875139236450195,11.7376070022583,11.965832710266113,9.230192184448242,11.599575996398926,11.744182586669922,10.148761749267578,11.58531665802002,11.353221893310547,11.847943305969238,11.964587211608887,11.810625076293945,11.897741317749023,11.661896705627441,11.726396560668945,11.875622749328613],\"yaxis\":\"y\",\"type\":\"scatter\"},{\"hovertemplate\":\"<b>%{hovertext}</b><br><br>color=frg41<br>x=%{x}<br>y=%{y}<extra></extra>\",\"hovertext\":[\"frg41\",\"frg41\",\"frg41\",\"frg41\",\"frg41\",\"frg41\",\"frg41\",\"frg41\",\"frg41\",\"frg41\",\"frg41\",\"frg41\",\"frg41\",\"frg41\",\"frg41\",\"frg41\",\"frg41\",\"frg41\",\"frg41\",\"frg41\",\"frg41\",\"frg41\",\"frg41\",\"frg41\"],\"legendgroup\":\"frg41\",\"marker\":{\"color\":\"#FECB52\",\"opacity\":0.5,\"symbol\":\"circle\"},\"mode\":\"markers\",\"name\":\"frg41\",\"orientation\":\"v\",\"showlegend\":true,\"x\":[6.837480545043945,6.9314985275268555,7.316671371459961,7.359254837036133,6.851588249206543,7.110043525695801,6.484452724456787,6.597253322601318,9.176678657531738,7.322383403778076,7.320793151855469,7.230751991271973,6.833024978637695,7.004645824432373,7.275287628173828,7.299899578094482,6.786276817321777,0.6035256385803223,6.905308723449707,5.72922420501709,7.145467758178711,7.103427886962891,7.176377296447754,7.248353004455566],\"xaxis\":\"x\",\"y\":[12.119346618652344,12.257383346557617,12.136209487915039,12.066628456115723,11.923466682434082,12.277393341064453,11.935935020446777,12.141359329223633,9.647836685180664,12.238870620727539,12.06047248840332,12.155353546142578,12.185507774353027,12.292473793029785,12.086380004882812,11.93113899230957,12.226698875427246,12.324731826782227,12.201088905334473,11.418938636779785,12.356144905090332,12.2366304397583,12.344103813171387,12.14438533782959],\"yaxis\":\"y\",\"type\":\"scatter\"},{\"hovertemplate\":\"<b>%{hovertext}</b><br><br>color=frg44<br>x=%{x}<br>y=%{y}<extra></extra>\",\"hovertext\":[\"frg44\",\"frg44\",\"frg44\",\"frg44\",\"frg44\",\"frg44\",\"frg44\",\"frg44\",\"frg44\",\"frg44\",\"frg44\",\"frg44\",\"frg44\",\"frg44\",\"frg44\",\"frg44\",\"frg44\",\"frg44\",\"frg44\",\"frg44\",\"frg44\",\"frg44\",\"frg44\",\"frg44\"],\"legendgroup\":\"frg44\",\"marker\":{\"color\":\"#636efa\",\"opacity\":0.5,\"symbol\":\"circle\"},\"mode\":\"markers\",\"name\":\"frg44\",\"orientation\":\"v\",\"showlegend\":true,\"x\":[9.400830268859863,9.1565580368042,9.342194557189941,9.41156005859375,9.367841720581055,9.333306312561035,9.287522315979004,9.079157829284668,9.44613265991211,9.369647026062012,9.19304084777832,9.381312370300293,9.152449607849121,9.307272911071777,9.316291809082031,9.286479949951172,9.17501449584961,9.395126342773438,9.216864585876465,9.139779090881348,9.235822677612305,9.203729629516602,9.34526252746582,9.417022705078125],\"xaxis\":\"x\",\"y\":[9.548802375793457,9.174863815307617,10.046257019042969,8.842975616455078,9.34453010559082,9.21860122680664,9.2756929397583,9.042304992675781,9.248165130615234,8.834247589111328,9.055981636047363,9.065329551696777,9.187215805053711,9.807137489318848,9.008157730102539,9.247599601745605,8.9368896484375,9.19243335723877,9.217013359069824,9.248878479003906,8.992705345153809,9.028375625610352,8.901515007019043,9.689305305480957],\"yaxis\":\"y\",\"type\":\"scatter\"},{\"hovertemplate\":\"<b>%{hovertext}</b><br><br>color=frg48<br>x=%{x}<br>y=%{y}<extra></extra>\",\"hovertext\":[\"frg48\",\"frg48\",\"frg48\",\"frg48\",\"frg48\",\"frg48\",\"frg48\",\"frg48\",\"frg48\",\"frg48\",\"frg48\",\"frg48\",\"frg48\",\"frg48\",\"frg48\",\"frg48\",\"frg48\",\"frg48\",\"frg48\",\"frg48\",\"frg48\",\"frg48\",\"frg48\",\"frg48\"],\"legendgroup\":\"frg48\",\"marker\":{\"color\":\"#EF553B\",\"opacity\":0.5,\"symbol\":\"circle\"},\"mode\":\"markers\",\"name\":\"frg48\",\"orientation\":\"v\",\"showlegend\":true,\"x\":[-4.032334804534912,-2.9870517253875732,-2.958503246307373,-4.003093242645264,-3.2547364234924316,-3.9643170833587646,-2.689817428588867,-2.5165767669677734,-2.654392719268799,-2.7324604988098145,-2.459784746170044,-2.925743579864502,-3.816598653793335,-2.6392831802368164,-3.890260934829712,-2.800926446914673,-2.7124078273773193,-3.375807762145996,-2.836763858795166,-4.01465368270874,-2.650207996368408,-2.6565961837768555,-3.6140122413635254,-2.5197665691375732],\"xaxis\":\"x\",\"y\":[4.478946685791016,4.566441535949707,4.4940009117126465,4.61215353012085,4.4833292961120605,4.396509647369385,4.567795753479004,4.572122097015381,4.676625728607178,4.65467643737793,4.477672576904297,4.501010894775391,4.301125526428223,4.535961151123047,4.421560764312744,4.458846569061279,4.442924499511719,4.636053085327148,4.429950714111328,4.54032564163208,4.443509578704834,4.506683826446533,4.940250396728516,4.513359069824219],\"yaxis\":\"y\",\"type\":\"scatter\"}],                        {\"template\":{\"data\":{\"bar\":[{\"error_x\":{\"color\":\"#2a3f5f\"},\"error_y\":{\"color\":\"#2a3f5f\"},\"marker\":{\"line\":{\"color\":\"#E5ECF6\",\"width\":0.5},\"pattern\":{\"fillmode\":\"overlay\",\"size\":10,\"solidity\":0.2}},\"type\":\"bar\"}],\"barpolar\":[{\"marker\":{\"line\":{\"color\":\"#E5ECF6\",\"width\":0.5},\"pattern\":{\"fillmode\":\"overlay\",\"size\":10,\"solidity\":0.2}},\"type\":\"barpolar\"}],\"carpet\":[{\"aaxis\":{\"endlinecolor\":\"#2a3f5f\",\"gridcolor\":\"white\",\"linecolor\":\"white\",\"minorgridcolor\":\"white\",\"startlinecolor\":\"#2a3f5f\"},\"baxis\":{\"endlinecolor\":\"#2a3f5f\",\"gridcolor\":\"white\",\"linecolor\":\"white\",\"minorgridcolor\":\"white\",\"startlinecolor\":\"#2a3f5f\"},\"type\":\"carpet\"}],\"choropleth\":[{\"colorbar\":{\"outlinewidth\":0,\"ticks\":\"\"},\"type\":\"choropleth\"}],\"contour\":[{\"colorbar\":{\"outlinewidth\":0,\"ticks\":\"\"},\"colorscale\":[[0.0,\"#0d0887\"],[0.1111111111111111,\"#46039f\"],[0.2222222222222222,\"#7201a8\"],[0.3333333333333333,\"#9c179e\"],[0.4444444444444444,\"#bd3786\"],[0.5555555555555556,\"#d8576b\"],[0.6666666666666666,\"#ed7953\"],[0.7777777777777778,\"#fb9f3a\"],[0.8888888888888888,\"#fdca26\"],[1.0,\"#f0f921\"]],\"type\":\"contour\"}],\"contourcarpet\":[{\"colorbar\":{\"outlinewidth\":0,\"ticks\":\"\"},\"type\":\"contourcarpet\"}],\"heatmap\":[{\"colorbar\":{\"outlinewidth\":0,\"ticks\":\"\"},\"colorscale\":[[0.0,\"#0d0887\"],[0.1111111111111111,\"#46039f\"],[0.2222222222222222,\"#7201a8\"],[0.3333333333333333,\"#9c179e\"],[0.4444444444444444,\"#bd3786\"],[0.5555555555555556,\"#d8576b\"],[0.6666666666666666,\"#ed7953\"],[0.7777777777777778,\"#fb9f3a\"],[0.8888888888888888,\"#fdca26\"],[1.0,\"#f0f921\"]],\"type\":\"heatmap\"}],\"heatmapgl\":[{\"colorbar\":{\"outlinewidth\":0,\"ticks\":\"\"},\"colorscale\":[[0.0,\"#0d0887\"],[0.1111111111111111,\"#46039f\"],[0.2222222222222222,\"#7201a8\"],[0.3333333333333333,\"#9c179e\"],[0.4444444444444444,\"#bd3786\"],[0.5555555555555556,\"#d8576b\"],[0.6666666666666666,\"#ed7953\"],[0.7777777777777778,\"#fb9f3a\"],[0.8888888888888888,\"#fdca26\"],[1.0,\"#f0f921\"]],\"type\":\"heatmapgl\"}],\"histogram\":[{\"marker\":{\"pattern\":{\"fillmode\":\"overlay\",\"size\":10,\"solidity\":0.2}},\"type\":\"histogram\"}],\"histogram2d\":[{\"colorbar\":{\"outlinewidth\":0,\"ticks\":\"\"},\"colorscale\":[[0.0,\"#0d0887\"],[0.1111111111111111,\"#46039f\"],[0.2222222222222222,\"#7201a8\"],[0.3333333333333333,\"#9c179e\"],[0.4444444444444444,\"#bd3786\"],[0.5555555555555556,\"#d8576b\"],[0.6666666666666666,\"#ed7953\"],[0.7777777777777778,\"#fb9f3a\"],[0.8888888888888888,\"#fdca26\"],[1.0,\"#f0f921\"]],\"type\":\"histogram2d\"}],\"histogram2dcontour\":[{\"colorbar\":{\"outlinewidth\":0,\"ticks\":\"\"},\"colorscale\":[[0.0,\"#0d0887\"],[0.1111111111111111,\"#46039f\"],[0.2222222222222222,\"#7201a8\"],[0.3333333333333333,\"#9c179e\"],[0.4444444444444444,\"#bd3786\"],[0.5555555555555556,\"#d8576b\"],[0.6666666666666666,\"#ed7953\"],[0.7777777777777778,\"#fb9f3a\"],[0.8888888888888888,\"#fdca26\"],[1.0,\"#f0f921\"]],\"type\":\"histogram2dcontour\"}],\"mesh3d\":[{\"colorbar\":{\"outlinewidth\":0,\"ticks\":\"\"},\"type\":\"mesh3d\"}],\"parcoords\":[{\"line\":{\"colorbar\":{\"outlinewidth\":0,\"ticks\":\"\"}},\"type\":\"parcoords\"}],\"pie\":[{\"automargin\":true,\"type\":\"pie\"}],\"scatter\":[{\"marker\":{\"colorbar\":{\"outlinewidth\":0,\"ticks\":\"\"}},\"type\":\"scatter\"}],\"scatter3d\":[{\"line\":{\"colorbar\":{\"outlinewidth\":0,\"ticks\":\"\"}},\"marker\":{\"colorbar\":{\"outlinewidth\":0,\"ticks\":\"\"}},\"type\":\"scatter3d\"}],\"scattercarpet\":[{\"marker\":{\"colorbar\":{\"outlinewidth\":0,\"ticks\":\"\"}},\"type\":\"scattercarpet\"}],\"scattergeo\":[{\"marker\":{\"colorbar\":{\"outlinewidth\":0,\"ticks\":\"\"}},\"type\":\"scattergeo\"}],\"scattergl\":[{\"marker\":{\"colorbar\":{\"outlinewidth\":0,\"ticks\":\"\"}},\"type\":\"scattergl\"}],\"scattermapbox\":[{\"marker\":{\"colorbar\":{\"outlinewidth\":0,\"ticks\":\"\"}},\"type\":\"scattermapbox\"}],\"scatterpolar\":[{\"marker\":{\"colorbar\":{\"outlinewidth\":0,\"ticks\":\"\"}},\"type\":\"scatterpolar\"}],\"scatterpolargl\":[{\"marker\":{\"colorbar\":{\"outlinewidth\":0,\"ticks\":\"\"}},\"type\":\"scatterpolargl\"}],\"scatterternary\":[{\"marker\":{\"colorbar\":{\"outlinewidth\":0,\"ticks\":\"\"}},\"type\":\"scatterternary\"}],\"surface\":[{\"colorbar\":{\"outlinewidth\":0,\"ticks\":\"\"},\"colorscale\":[[0.0,\"#0d0887\"],[0.1111111111111111,\"#46039f\"],[0.2222222222222222,\"#7201a8\"],[0.3333333333333333,\"#9c179e\"],[0.4444444444444444,\"#bd3786\"],[0.5555555555555556,\"#d8576b\"],[0.6666666666666666,\"#ed7953\"],[0.7777777777777778,\"#fb9f3a\"],[0.8888888888888888,\"#fdca26\"],[1.0,\"#f0f921\"]],\"type\":\"surface\"}],\"table\":[{\"cells\":{\"fill\":{\"color\":\"#EBF0F8\"},\"line\":{\"color\":\"white\"}},\"header\":{\"fill\":{\"color\":\"#C8D4E3\"},\"line\":{\"color\":\"white\"}},\"type\":\"table\"}]},\"layout\":{\"annotationdefaults\":{\"arrowcolor\":\"#2a3f5f\",\"arrowhead\":0,\"arrowwidth\":1},\"autotypenumbers\":\"strict\",\"coloraxis\":{\"colorbar\":{\"outlinewidth\":0,\"ticks\":\"\"}},\"colorscale\":{\"diverging\":[[0,\"#8e0152\"],[0.1,\"#c51b7d\"],[0.2,\"#de77ae\"],[0.3,\"#f1b6da\"],[0.4,\"#fde0ef\"],[0.5,\"#f7f7f7\"],[0.6,\"#e6f5d0\"],[0.7,\"#b8e186\"],[0.8,\"#7fbc41\"],[0.9,\"#4d9221\"],[1,\"#276419\"]],\"sequential\":[[0.0,\"#0d0887\"],[0.1111111111111111,\"#46039f\"],[0.2222222222222222,\"#7201a8\"],[0.3333333333333333,\"#9c179e\"],[0.4444444444444444,\"#bd3786\"],[0.5555555555555556,\"#d8576b\"],[0.6666666666666666,\"#ed7953\"],[0.7777777777777778,\"#fb9f3a\"],[0.8888888888888888,\"#fdca26\"],[1.0,\"#f0f921\"]],\"sequentialminus\":[[0.0,\"#0d0887\"],[0.1111111111111111,\"#46039f\"],[0.2222222222222222,\"#7201a8\"],[0.3333333333333333,\"#9c179e\"],[0.4444444444444444,\"#bd3786\"],[0.5555555555555556,\"#d8576b\"],[0.6666666666666666,\"#ed7953\"],[0.7777777777777778,\"#fb9f3a\"],[0.8888888888888888,\"#fdca26\"],[1.0,\"#f0f921\"]]},\"colorway\":[\"#636efa\",\"#EF553B\",\"#00cc96\",\"#ab63fa\",\"#FFA15A\",\"#19d3f3\",\"#FF6692\",\"#B6E880\",\"#FF97FF\",\"#FECB52\"],\"font\":{\"color\":\"#2a3f5f\"},\"geo\":{\"bgcolor\":\"white\",\"lakecolor\":\"white\",\"landcolor\":\"#E5ECF6\",\"showlakes\":true,\"showland\":true,\"subunitcolor\":\"white\"},\"hoverlabel\":{\"align\":\"left\"},\"hovermode\":\"closest\",\"mapbox\":{\"style\":\"light\"},\"paper_bgcolor\":\"white\",\"plot_bgcolor\":\"#E5ECF6\",\"polar\":{\"angularaxis\":{\"gridcolor\":\"white\",\"linecolor\":\"white\",\"ticks\":\"\"},\"bgcolor\":\"#E5ECF6\",\"radialaxis\":{\"gridcolor\":\"white\",\"linecolor\":\"white\",\"ticks\":\"\"}},\"scene\":{\"xaxis\":{\"backgroundcolor\":\"#E5ECF6\",\"gridcolor\":\"white\",\"gridwidth\":2,\"linecolor\":\"white\",\"showbackground\":true,\"ticks\":\"\",\"zerolinecolor\":\"white\"},\"yaxis\":{\"backgroundcolor\":\"#E5ECF6\",\"gridcolor\":\"white\",\"gridwidth\":2,\"linecolor\":\"white\",\"showbackground\":true,\"ticks\":\"\",\"zerolinecolor\":\"white\"},\"zaxis\":{\"backgroundcolor\":\"#E5ECF6\",\"gridcolor\":\"white\",\"gridwidth\":2,\"linecolor\":\"white\",\"showbackground\":true,\"ticks\":\"\",\"zerolinecolor\":\"white\"}},\"shapedefaults\":{\"line\":{\"color\":\"#2a3f5f\"}},\"ternary\":{\"aaxis\":{\"gridcolor\":\"white\",\"linecolor\":\"white\",\"ticks\":\"\"},\"baxis\":{\"gridcolor\":\"white\",\"linecolor\":\"white\",\"ticks\":\"\"},\"bgcolor\":\"#E5ECF6\",\"caxis\":{\"gridcolor\":\"white\",\"linecolor\":\"white\",\"ticks\":\"\"}},\"title\":{\"x\":0.05},\"xaxis\":{\"automargin\":true,\"gridcolor\":\"white\",\"linecolor\":\"white\",\"ticks\":\"\",\"title\":{\"standoff\":15},\"zerolinecolor\":\"white\",\"zerolinewidth\":2},\"yaxis\":{\"automargin\":true,\"gridcolor\":\"white\",\"linecolor\":\"white\",\"ticks\":\"\",\"title\":{\"standoff\":15},\"zerolinecolor\":\"white\",\"zerolinewidth\":2}}},\"xaxis\":{\"anchor\":\"y\",\"domain\":[0.0,1.0],\"title\":{\"text\":\"x\"}},\"yaxis\":{\"anchor\":\"x\",\"domain\":[0.0,1.0],\"title\":{\"text\":\"y\"}},\"legend\":{\"title\":{\"text\":\"color\"},\"tracegroupgap\":0},\"title\":{\"text\":\"small_resnet_scratch\"},\"height\":600,\"width\":800},                        {\"responsive\": true}                    ).then(function(){\n",
              "                            \n",
              "var gd = document.getElementById('64a414eb-b1f8-499c-8521-2097271ef87a');\n",
              "var x = new MutationObserver(function (mutations, observer) {{\n",
              "        var display = window.getComputedStyle(gd).display;\n",
              "        if (!display || display === 'none') {{\n",
              "            console.log([gd, 'removed!']);\n",
              "            Plotly.purge(gd);\n",
              "            observer.disconnect();\n",
              "        }}\n",
              "}});\n",
              "\n",
              "// Listen for the removal of the full notebook cells\n",
              "var notebookContainer = gd.closest('#notebook-container');\n",
              "if (notebookContainer) {{\n",
              "    x.observe(notebookContainer, {childList: true});\n",
              "}}\n",
              "\n",
              "// Listen for the clearing of the current output cell\n",
              "var outputEl = gd.closest('.output');\n",
              "if (outputEl) {{\n",
              "    x.observe(outputEl, {childList: true});\n",
              "}}\n",
              "\n",
              "                        })                };                            </script>        </div>\n",
              "</body>\n",
              "</html>"
            ]
          },
          "metadata": {}
        }
      ]
    },
    {
      "cell_type": "code",
      "source": [
        "import itertools\n",
        "import random\n",
        "\n",
        "hold_out_comb = list(itertools.combinations(hold_out_1, 2)) \n",
        "r24 = range(1,25)\n",
        "comb_24 = list(itertools.combinations(r24, 2))"
      ],
      "metadata": {
        "id": "xEV8nEWSlq1S"
      },
      "execution_count": 111,
      "outputs": []
    },
    {
      "cell_type": "code",
      "source": [
        "positive_pairs = []\n",
        "for i in hold_out_1:\n",
        "  for (a,b) in comb_24:\n",
        "    a= orig_img_path =f\"/full_org/original_{i}_{a}.png\" \n",
        "    b= orig_img_path =f\"/full_org/original_{i}_{b}.png\"   \n",
        "    positive_pairs.append([a,b])\n",
        "\n",
        "# easy negatives \n",
        "easy_negs = []\n",
        "for (i,j) in hold_out_comb:\n",
        "  for (a,b) in comb_24:\n",
        "    a= orig_img_path =f\"/full_org/original_{i}_{a}.png\" \n",
        "    b= orig_img_path =f\"/full_org/original_{j}_{b}.png\"   \n",
        "    easy_negs.append([a,b])     \n",
        "\n",
        "# hard negatives\n",
        "hard_negs = []\n",
        "for c in hold_out_1:\n",
        "  for i in range(1,25): \n",
        "    for j in range(1,25): \n",
        "      a= orig_img_path =f\"/full_org/original_{c}_{i}.png\" \n",
        "      b= orig_img_path =f\"/full_forg/forgeries_{c}_{j}.png\"   \n",
        "      hard_negs.append([a,b])  "
      ],
      "metadata": {
        "id": "leCnY1ubl0pn"
      },
      "execution_count": 112,
      "outputs": []
    },
    {
      "cell_type": "code",
      "source": [
        "print( f\"{len(positive_pairs)} positive pairs, {len(hard_negs)} hard negatives, {len(easy_negs)} easy negatives\" )\n",
        "# downsample hard negative and easy negative\n",
        "easy_negs = random.sample(easy_negs, len(positive_pairs))\n",
        "hard_negs = random.sample(hard_negs, len(positive_pairs)) \n",
        "print( f\"Downsampled: {len(positive_pairs)} positive pairs, {len(hard_negs)} hard negatives, {len(easy_negs)} easy negatives\" )"
      ],
      "metadata": {
        "colab": {
          "base_uri": "https://localhost:8080/"
        },
        "id": "QOWntHbDl5BR",
        "outputId": "20a7c9be-8ab6-4faf-af38-a7e73d3c1a03"
      },
      "execution_count": 113,
      "outputs": [
        {
          "output_type": "stream",
          "name": "stdout",
          "text": [
            "3036 positive pairs, 6336 hard negatives, 15180 easy negatives\n",
            "Downsampled: 3036 positive pairs, 3036 hard negatives, 3036 easy negatives\n"
          ]
        }
      ]
    },
    {
      "cell_type": "code",
      "source": [
        "#Create Datasets for Prediction\n",
        "AUTOTUNE = tf.data.AUTOTUNE\n",
        "\n",
        "def generate_pair_data(x):    \n",
        "    x = [x.decode(\"utf-8\") for x in x.numpy()]\n",
        "    x = load_data(x)  \n",
        "    return x\n",
        "\n",
        "def get_pair_ds(x, batch_size): \n",
        "  ds = tf.data.Dataset.from_tensor_slices(x).batch(batch_size)   \n",
        "  ds = ds.map(lambda x: tf.py_function(generate_pair_data, [x], tf.float32)) \n",
        "  ds = ds.prefetch(buffer_size=AUTOTUNE)\n",
        "  return ds\n",
        "\n",
        "def get_pair_distance(pair, model, batch_size=64):\n",
        "    a_ds = get_pair_ds([x[0] for x in pair], batch_size=batch_size)\n",
        "    b_ds = get_pair_ds([x[1] for x in pair], batch_size=batch_size) \n",
        "    a_preds = model.predict(a_ds)\n",
        "    b_preds = model.predict(b_ds)\n",
        "    distances = tf.reduce_sum(tf.multiply(a_preds,b_preds), axis=1) \n",
        "    return distances"
      ],
      "metadata": {
        "id": "zI5rU2rRl9v9"
      },
      "execution_count": 114,
      "outputs": []
    },
    {
      "cell_type": "code",
      "source": [
        "import seaborn as sns \n",
        "\n",
        "for model_detail in trained_models:\n",
        "    model = model_detail[\"model\"]\n",
        "    easy_neg_dist = get_pair_distance(easy_negs, model, batch_size=64)\n",
        "    hard_neg_dist = get_pair_distance(hard_negs, model, batch_size=64)\n",
        "    positive_dist = get_pair_distance(positive_pairs, model, batch_size=64)\n",
        "    \n",
        "    plt.figure(figsize=(18,6)) \n",
        "    sns.kdeplot(positive_dist, label=\"positive pairs \", fill=True);\n",
        "    sns.kdeplot(hard_neg_dist, label=\"hard negatives\", fill=True);\n",
        "    sns.kdeplot(easy_neg_dist, label=\"easy negatives\", fill=True);\n",
        "    plt.legend();\n",
        "    plt.title(f\"Density plot of similarity for pairs - {model_detail['name']}\");\n",
        "    plt.show()"
      ],
      "metadata": {
        "colab": {
          "base_uri": "https://localhost:8080/",
          "height": 564
        },
        "id": "CmhqBDGkmHQe",
        "outputId": "76106a50-e6e9-4d99-fc4d-1eed35669e43"
      },
      "execution_count": 115,
      "outputs": [
        {
          "output_type": "stream",
          "name": "stderr",
          "text": [
            "<ipython-input-89-e3478bcfdae6>:2: UserWarning:\n",
            "\n",
            "threshold_otsu is expected to work correctly only for grayscale images; image shape (224, 224, 3) looks like that of an RGB image.\n",
            "\n"
          ]
        },
        {
          "output_type": "stream",
          "name": "stdout",
          "text": [
            "48/48 [==============================] - 30s 608ms/step\n",
            "48/48 [==============================] - 29s 603ms/step\n",
            "48/48 [==============================] - 28s 581ms/step\n",
            "48/48 [==============================] - 34s 705ms/step\n",
            "48/48 [==============================] - 28s 579ms/step\n",
            "48/48 [==============================] - 28s 590ms/step\n"
          ]
        },
        {
          "output_type": "display_data",
          "data": {
            "text/plain": [
              "<Figure size 1296x432 with 1 Axes>"
            ],
            "image/png": "[encoded data removed]"
          },
          "metadata": {
            "needs_background": "light"
          }
        }
      ]
    }
  ]
}